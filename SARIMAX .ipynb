{
 "cells": [
  {
   "cell_type": "markdown",
   "metadata": {},
   "source": [
    "### ***running  `Data_Preprocessing.ipynb` file***"
   ]
  },
  {
   "cell_type": "code",
   "execution_count": 2,
   "metadata": {},
   "outputs": [],
   "source": [
    "#ignore warnings\n",
    "import warnings \n",
    "warnings.filterwarnings(\"ignore\")\n"
   ]
  },
  {
   "cell_type": "code",
   "execution_count": 3,
   "metadata": {},
   "outputs": [],
   "source": [
    "%run  Data_Read.ipynb"
   ]
  },
  {
   "cell_type": "code",
   "execution_count": 4,
   "metadata": {},
   "outputs": [],
   "source": [
    "Kandy = Kandy_df\n",
    "Jaffna = Jaffna_df\n",
    "Colombo = colombo_df\n",
    "Kurunegala = Kurunegala_df\n",
    "Deniyaya = Deniyaya_df\n",
    "Bibile = Bibile_df\n",
    "Nuwara_Eliya = Nuwara_Eliya_df\n"
   ]
  },
  {
   "cell_type": "markdown",
   "metadata": {},
   "source": [
    "## `Stationary Test`"
   ]
  },
  {
   "cell_type": "code",
   "execution_count": 5,
   "metadata": {},
   "outputs": [],
   "source": [
    "# importing adfuller\n",
    "from statsmodels.tsa.stattools import adfuller\n",
    "\n",
    "def adfuller_test(HCHO):\n",
    "    result=adfuller(HCHO)\n",
    "    labels = ['ADF Test Statistic','p-value','#Lags Used','Number of Observations Used']\n",
    "    for value,label in zip(result,labels):\n",
    "        print(label+' : '+str(value) )\n",
    "    if result[1] <= 0.05:\n",
    "        print(\"strong evidence against the null hypothesis(Ho), reject the null hypothesis. Data has no unit root and is stationary\")\n",
    "    else:\n",
    "        print(\"weak evidence against null hypothesis, time series has a unit root, indicating it is non-stationary \")\n",
    "        \n"
   ]
  },
  {
   "cell_type": "code",
   "execution_count": 6,
   "metadata": {},
   "outputs": [
    {
     "name": "stdout",
     "output_type": "stream",
     "text": [
      "Colombo Proper\n",
      "ADF Test Statistic : -4.676893959479641\n",
      "p-value : 9.297802021990477e-05\n",
      "#Lags Used : 14\n",
      "Number of Observations Used : 1776\n",
      "strong evidence against the null hypothesis(Ho), reject the null hypothesis. Data has no unit root and is stationary\n",
      "\n",
      "Deniyaya, Matara\n",
      "ADF Test Statistic : -15.479105034428477\n",
      "p-value : 2.5701131485079442e-28\n",
      "#Lags Used : 2\n",
      "Number of Observations Used : 1760\n",
      "strong evidence against the null hypothesis(Ho), reject the null hypothesis. Data has no unit root and is stationary\n",
      "\n",
      "Nuwara Eliya Proper\n",
      "ADF Test Statistic : -9.383191766909734\n",
      "p-value : 6.869008945895899e-16\n",
      "#Lags Used : 8\n",
      "Number of Observations Used : 1780\n",
      "strong evidence against the null hypothesis(Ho), reject the null hypothesis. Data has no unit root and is stationary\n",
      "\n",
      "Kandy Proper\n",
      "ADF Test Statistic : -9.164830150274641\n",
      "p-value : 2.4768332405220822e-15\n",
      "#Lags Used : 10\n",
      "Number of Observations Used : 1765\n",
      "strong evidence against the null hypothesis(Ho), reject the null hypothesis. Data has no unit root and is stationary\n",
      "\n",
      "Bibile, Monaragala\n",
      "ADF Test Statistic : -4.913924096859095\n",
      "p-value : 3.276205254730066e-05\n",
      "#Lags Used : 21\n",
      "Number of Observations Used : 1764\n",
      "strong evidence against the null hypothesis(Ho), reject the null hypothesis. Data has no unit root and is stationary\n",
      "\n",
      "Kurunegala Proper\n",
      "ADF Test Statistic : -7.313712636757888\n",
      "p-value : 1.2450275246570857e-10\n",
      "#Lags Used : 10\n",
      "Number of Observations Used : 1770\n",
      "strong evidence against the null hypothesis(Ho), reject the null hypothesis. Data has no unit root and is stationary\n",
      "\n",
      "Jaffna Proper\n",
      "ADF Test Statistic : -6.571761090015706\n",
      "p-value : 7.9038331934402e-09\n",
      "#Lags Used : 16\n",
      "Number of Observations Used : 1737\n",
      "strong evidence against the null hypothesis(Ho), reject the null hypothesis. Data has no unit root and is stationary\n"
     ]
    }
   ],
   "source": [
    "# adf test for all data frames location wise\n",
    "print('Colombo Proper')\n",
    "adfuller_test(colombo_df['HCHO Value'])\n",
    "print('\\nDeniyaya, Matara')\n",
    "adfuller_test(Deniyaya_df['HCHO Value'])\n",
    "print('\\nNuwara Eliya Proper')\n",
    "adfuller_test(Nuwara_Eliya_df['HCHO Value'])\n",
    "print('\\nKandy Proper')\n",
    "adfuller_test(Kandy_df['HCHO Value'])\n",
    "print('\\nBibile, Monaragala')\n",
    "adfuller_test(Bibile_df['HCHO Value'])\n",
    "print('\\nKurunegala Proper')\n",
    "adfuller_test(Kurunegala_df['HCHO Value'])\n",
    "print('\\nJaffna Proper')\n",
    "adfuller_test(Jaffna_df['HCHO Value'])\n"
   ]
  },
  {
   "cell_type": "markdown",
   "metadata": {},
   "source": [
    "### ***`PDQ Order Function`***"
   ]
  },
  {
   "cell_type": "markdown",
   "metadata": {},
   "source": [
    "***Using function to get the orders of the SARIMAX***"
   ]
  },
  {
   "cell_type": "code",
   "execution_count": 7,
   "metadata": {},
   "outputs": [],
   "source": [
    "\n",
    "def get_pdq_values(df):\n",
    "    from pmdarima import auto_arima\n",
    "    stepwise_fit = auto_arima(df, start_p=0, start_q=0, max_p=4, max_q=4, m=12,\n",
    "                              seasonal=True, trace=True, suppress_warnings=True, error_action=\"ignore\", stepwise=True)\n",
    "    return stepwise_fit.get_params()\n",
    "\n"
   ]
  },
  {
   "cell_type": "markdown",
   "metadata": {},
   "source": [
    "# ***`Arima model`***"
   ]
  },
  {
   "cell_type": "markdown",
   "metadata": {},
   "source": [
    "***Using a fucntion to evaluate the model***"
   ]
  },
  {
   "cell_type": "code",
   "execution_count": 8,
   "metadata": {},
   "outputs": [],
   "source": [
    "import datetime\n",
    "import pandas as pd\n",
    "import numpy as np\n",
    "import matplotlib.pyplot as plt\n",
    "from statsmodels.tsa.statespace.sarimax import SARIMAX\n",
    "from sklearn.metrics import mean_squared_error, mean_absolute_error\n",
    "\n",
    "def Evaluate(df, location, pdq_values, seasonal_order):\n",
    "    # Split data into train and test sets (80% train, 20% test)\n",
    "    train_size = int(len(df) * 0.8)\n",
    "    train_data, test_data = df[:train_size], df[train_size:]\n",
    "\n",
    "    # Define the order and seasonal_order for the SARIMA model\n",
    "    order = pdq_values\n",
    "    seasonal_order = seasonal_order\n",
    "\n",
    "    # Fit SARIMA model\n",
    "    model = SARIMAX(train_data['HCHO Value'], order=order, seasonal_order=seasonal_order)\n",
    "    results = model.fit()\n",
    "\n",
    "    # Forecast for the test set\n",
    "    forecast_values = results.predict(start=len(train_data), end=len(df)-1)\n",
    "\n",
    "    # Store forecasted values in a DataFrame\n",
    "    forecast_df = pd.DataFrame({'Date': test_data.index, 'HCHO Value': forecast_values})\n",
    "\n",
    "    # Calculate evaluation metrics\n",
    "    rmse = np.sqrt(mean_squared_error(test_data['HCHO Value'], forecast_values))\n",
    "    mse = mean_squared_error(test_data['HCHO Value'], forecast_values)\n",
    "    mae = mean_absolute_error(test_data['HCHO Value'], forecast_values)\n",
    "\n",
    "    # Print evaluation metrics\n",
    "    print(f\"RMSE Score: {rmse}\")\n",
    "    print(f\"MSE Score: {mse}\")\n",
    "    print(f\"MAE Score: {mae}\")\n",
    "\n",
    "   \n"
   ]
  },
  {
   "cell_type": "markdown",
   "metadata": {},
   "source": [
    "***Using def Function to forecast HCHO predictions for future***"
   ]
  },
  {
   "cell_type": "code",
   "execution_count": 10,
   "metadata": {},
   "outputs": [],
   "source": [
    "import datetime\n",
    "import pandas as pd\n",
    "import matplotlib.pyplot as plt\n",
    "from statsmodels.tsa.statespace.sarimax import SARIMAX\n",
    "\n",
    "def forecast(df, location,pdq_values,seasonal_order):\n",
    "    # Create an empty DataFrame to store the forecasted values\n",
    "    forecast_df = pd.DataFrame(columns=['Date', 'HCHO Value'])\n",
    "\n",
    "    # Import today's date\n",
    "    todays_date = datetime.datetime(2024, 1, 1)  # Corrected line\n",
    "\n",
    "    # Define the order and seasonal_order for the SARIMA model\n",
    "    order = pdq_values\n",
    "    seasonal_order = seasonal_order  # Example seasonal order with a yearly seasonality\n",
    "\n",
    "    # Fit SARIMA model\n",
    "    model = SARIMAX(df['HCHO Value'], order=order, seasonal_order=seasonal_order)\n",
    "    results = model.fit()\n",
    "\n",
    "    # Display the model summary\n",
    "    #print(results.summary())\n",
    "\n",
    "    # Forecast for 60 days from today's date (adjust as needed)\n",
    "    forecast_steps = 60\n",
    "    forecast_values = results.forecast(steps=forecast_steps)\n",
    "\n",
    "    # Print the predicted values for the next 60 days and add them to the forecast DataFrame\n",
    "    for i in range(forecast_steps):\n",
    "        prediction_date = todays_date + pd.Timedelta(days=i + 1)  # Adjust for starting from tomorrow\n",
    "        #print(f\"{prediction_date}: {forecast_values.iloc[i]}\")\n",
    "        forecast_df = forecast_df.append({'Date': prediction_date, 'HCHO Value': forecast_values.iloc[i]}, ignore_index=True)\n",
    "\n",
    "    # Display the forecast DataFrame\n",
    "    #print(forecast_df)\n",
    "\n",
    "    # Plot the training and forecasted values on the same plot\n",
    "    plt.plot(df.index, df['HCHO Value'], label='Training Data', color='blue')\n",
    "    plt.plot(forecast_df['Date'], forecast_df['HCHO Value'], label='Forecasted Data', color='red')\n",
    "    plt.title(f\"Forecasted HCHO Values for {location}\")\n",
    "    plt.xlabel(\"Date\")\n",
    "    plt.ylabel(\"HCHO Value\")\n",
    "    plt.legend()\n",
    "    plt.show()\n",
    "\n",
    "    return forecast_df\n",
    "\n",
    "\n"
   ]
  },
  {
   "cell_type": "markdown",
   "metadata": {},
   "source": [
    "## ***Kandy***"
   ]
  },
  {
   "cell_type": "markdown",
   "metadata": {},
   "source": [
    "#### ***Kandy forecast***"
   ]
  },
  {
   "cell_type": "code",
   "execution_count": 17,
   "metadata": {},
   "outputs": [
    {
     "name": "stdout",
     "output_type": "stream",
     "text": [
      "Performing stepwise search to minimize aic\n",
      " ARIMA(0,0,0)(1,0,1)[12] intercept   : AIC=-28705.619, Time=3.08 sec\n",
      " ARIMA(0,0,0)(0,0,0)[12] intercept   : AIC=-28743.566, Time=0.16 sec\n",
      " ARIMA(1,0,0)(1,0,0)[12] intercept   : AIC=-28835.046, Time=2.39 sec\n",
      " ARIMA(0,0,1)(0,0,1)[12] intercept   : AIC=-29221.325, Time=1.88 sec\n",
      " ARIMA(0,0,0)(0,0,0)[12]             : AIC=-26964.171, Time=0.06 sec\n",
      " ARIMA(0,0,1)(0,0,0)[12] intercept   : AIC=-29224.841, Time=0.76 sec\n",
      " ARIMA(0,0,1)(1,0,0)[12] intercept   : AIC=-28686.459, Time=3.68 sec\n",
      " ARIMA(0,0,1)(1,0,1)[12] intercept   : AIC=-29145.560, Time=4.06 sec\n",
      " ARIMA(1,0,1)(0,0,0)[12] intercept   : AIC=-29465.217, Time=0.85 sec\n",
      " ARIMA(1,0,1)(1,0,0)[12] intercept   : AIC=-28842.544, Time=2.60 sec\n",
      " ARIMA(1,0,1)(0,0,1)[12] intercept   : AIC=-29444.526, Time=2.13 sec\n",
      " ARIMA(1,0,1)(1,0,1)[12] intercept   : AIC=-29344.748, Time=3.26 sec\n",
      " ARIMA(1,0,0)(0,0,0)[12] intercept   : AIC=-29457.717, Time=0.55 sec\n",
      " ARIMA(2,0,1)(0,0,0)[12] intercept   : AIC=-29423.487, Time=0.52 sec\n",
      " ARIMA(1,0,2)(0,0,0)[12] intercept   : AIC=-29464.910, Time=1.32 sec\n",
      " ARIMA(0,0,2)(0,0,0)[12] intercept   : AIC=-29333.760, Time=1.26 sec\n",
      " ARIMA(2,0,0)(0,0,0)[12] intercept   : AIC=-29464.977, Time=0.88 sec\n",
      " ARIMA(2,0,2)(0,0,0)[12] intercept   : AIC=-29470.615, Time=0.62 sec\n",
      " ARIMA(2,0,2)(1,0,0)[12] intercept   : AIC=-28844.179, Time=3.93 sec\n",
      " ARIMA(2,0,2)(0,0,1)[12] intercept   : AIC=-29445.562, Time=1.63 sec\n",
      " ARIMA(2,0,2)(1,0,1)[12] intercept   : AIC=-29355.962, Time=4.43 sec\n",
      " ARIMA(3,0,2)(0,0,0)[12] intercept   : AIC=-29468.478, Time=0.70 sec\n",
      " ARIMA(2,0,3)(0,0,0)[12] intercept   : AIC=-29470.406, Time=0.77 sec\n",
      " ARIMA(1,0,3)(0,0,0)[12] intercept   : AIC=-29469.866, Time=2.12 sec\n",
      " ARIMA(3,0,1)(0,0,0)[12] intercept   : AIC=-29465.877, Time=0.70 sec\n",
      " ARIMA(3,0,3)(0,0,0)[12] intercept   : AIC=-29464.159, Time=2.18 sec\n",
      " ARIMA(2,0,2)(0,0,0)[12]             : AIC=-29329.870, Time=0.93 sec\n",
      "\n",
      "Best model:  ARIMA(2,0,2)(0,0,0)[12] intercept\n",
      "Total fit time: 47.499 seconds\n"
     ]
    },
    {
     "data": {
      "text/plain": [
       "{'maxiter': 50,\n",
       " 'method': 'lbfgs',\n",
       " 'order': (2, 0, 2),\n",
       " 'out_of_sample_size': 0,\n",
       " 'scoring': 'mse',\n",
       " 'scoring_args': {},\n",
       " 'seasonal_order': (0, 0, 0, 12),\n",
       " 'start_params': None,\n",
       " 'suppress_warnings': True,\n",
       " 'trend': None,\n",
       " 'with_intercept': True}"
      ]
     },
     "execution_count": 17,
     "metadata": {},
     "output_type": "execute_result"
    }
   ],
   "source": [
    "get_pdq_values(Kandy_df['HCHO Value'].dropna())"
   ]
  },
  {
   "cell_type": "code",
   "execution_count": 11,
   "metadata": {},
   "outputs": [
    {
     "name": "stderr",
     "output_type": "stream",
     "text": [
      "C:\\Users\\Dell\\AppData\\Local\\Packages\\PythonSoftwareFoundation.Python.3.7_qbz5n2kfra8p0\\LocalCache\\local-packages\\Python37\\site-packages\\statsmodels\\tsa\\base\\tsa_model.py:471: ValueWarning: A date index has been provided, but it has no associated frequency information and so will be ignored when e.g. forecasting.\n",
      "  self._init_dates(dates, freq)\n",
      "C:\\Users\\Dell\\AppData\\Local\\Packages\\PythonSoftwareFoundation.Python.3.7_qbz5n2kfra8p0\\LocalCache\\local-packages\\Python37\\site-packages\\statsmodels\\tsa\\base\\tsa_model.py:471: ValueWarning: A date index has been provided, but it has no associated frequency information and so will be ignored when e.g. forecasting.\n",
      "  self._init_dates(dates, freq)\n",
      "C:\\Users\\Dell\\AppData\\Local\\Packages\\PythonSoftwareFoundation.Python.3.7_qbz5n2kfra8p0\\LocalCache\\local-packages\\Python37\\site-packages\\statsmodels\\base\\model.py:606: ConvergenceWarning: Maximum Likelihood optimization failed to converge. Check mle_retvals\n",
      "  ConvergenceWarning)\n",
      "C:\\Users\\Dell\\AppData\\Local\\Packages\\PythonSoftwareFoundation.Python.3.7_qbz5n2kfra8p0\\LocalCache\\local-packages\\Python37\\site-packages\\statsmodels\\tsa\\base\\tsa_model.py:843: ValueWarning: No supported index is available. Prediction results will be given with an integer index beginning at `start`.\n",
      "  data=self.data,\n"
     ]
    },
    {
     "data": {
      "image/png": "[encoded data removed]",
      "text/plain": [
       "<Figure size 432x288 with 1 Axes>"
      ]
     },
     "metadata": {
      "needs_background": "light"
     },
     "output_type": "display_data"
    }
   ],
   "source": [
    "Kandy_forecast =  forecast(Kandy, 'Kandy',(2,0,2),(2,0,2,12))\n"
   ]
  },
  {
   "cell_type": "markdown",
   "metadata": {},
   "source": [
    "#### ***Kandy Model Evaluation***"
   ]
  },
  {
   "cell_type": "code",
   "execution_count": 12,
   "metadata": {},
   "outputs": [
    {
     "name": "stderr",
     "output_type": "stream",
     "text": [
      "C:\\Users\\Dell\\AppData\\Local\\Packages\\PythonSoftwareFoundation.Python.3.7_qbz5n2kfra8p0\\LocalCache\\local-packages\\Python37\\site-packages\\statsmodels\\tsa\\base\\tsa_model.py:471: ValueWarning: A date index has been provided, but it has no associated frequency information and so will be ignored when e.g. forecasting.\n",
      "  self._init_dates(dates, freq)\n",
      "C:\\Users\\Dell\\AppData\\Local\\Packages\\PythonSoftwareFoundation.Python.3.7_qbz5n2kfra8p0\\LocalCache\\local-packages\\Python37\\site-packages\\statsmodels\\tsa\\base\\tsa_model.py:471: ValueWarning: A date index has been provided, but it has no associated frequency information and so will be ignored when e.g. forecasting.\n",
      "  self._init_dates(dates, freq)\n",
      "C:\\Users\\Dell\\AppData\\Local\\Packages\\PythonSoftwareFoundation.Python.3.7_qbz5n2kfra8p0\\LocalCache\\local-packages\\Python37\\site-packages\\statsmodels\\base\\model.py:606: ConvergenceWarning: Maximum Likelihood optimization failed to converge. Check mle_retvals\n",
      "  ConvergenceWarning)\n"
     ]
    },
    {
     "name": "stdout",
     "output_type": "stream",
     "text": [
      "RMSE Score: 0.00010561726864664005\n",
      "MSE Score: 1.1155007436376537e-08\n",
      "MAE Score: 8.834630730144508e-05\n"
     ]
    },
    {
     "name": "stderr",
     "output_type": "stream",
     "text": [
      "C:\\Users\\Dell\\AppData\\Local\\Packages\\PythonSoftwareFoundation.Python.3.7_qbz5n2kfra8p0\\LocalCache\\local-packages\\Python37\\site-packages\\statsmodels\\tsa\\base\\tsa_model.py:843: ValueWarning: No supported index is available. Prediction results will be given with an integer index beginning at `start`.\n",
      "  data=self.data,\n"
     ]
    }
   ],
   "source": [
    "Evaluate(Kandy, 'Kandy',(2,0,2),(2,0,2,12))"
   ]
  },
  {
   "cell_type": "markdown",
   "metadata": {},
   "source": [
    "## ***Colombo***"
   ]
  },
  {
   "cell_type": "code",
   "execution_count": 20,
   "metadata": {},
   "outputs": [
    {
     "name": "stdout",
     "output_type": "stream",
     "text": [
      "Performing stepwise search to minimize aic\n",
      " ARIMA(0,0,0)(1,0,1)[12] intercept   : AIC=inf, Time=3.03 sec\n",
      " ARIMA(0,0,0)(0,0,0)[12] intercept   : AIC=-28440.924, Time=0.16 sec\n",
      " ARIMA(1,0,0)(1,0,0)[12] intercept   : AIC=-28360.725, Time=1.84 sec\n",
      " ARIMA(0,0,1)(0,0,1)[12] intercept   : AIC=-28894.049, Time=2.61 sec\n",
      " ARIMA(0,0,0)(0,0,0)[12]             : AIC=-25928.600, Time=0.06 sec\n",
      " ARIMA(0,0,1)(0,0,0)[12] intercept   : AIC=-28855.829, Time=0.79 sec\n",
      " ARIMA(0,0,1)(1,0,1)[12] intercept   : AIC=inf, Time=4.78 sec\n",
      " ARIMA(0,0,1)(0,0,2)[12] intercept   : AIC=-28930.122, Time=5.19 sec\n",
      " ARIMA(0,0,1)(1,0,2)[12] intercept   : AIC=-28617.045, Time=9.50 sec\n",
      " ARIMA(0,0,0)(0,0,2)[12] intercept   : AIC=-28543.272, Time=3.66 sec\n",
      " ARIMA(1,0,1)(0,0,2)[12] intercept   : AIC=-29193.958, Time=5.54 sec\n",
      " ARIMA(1,0,1)(0,0,1)[12] intercept   : AIC=-29198.146, Time=2.68 sec\n",
      " ARIMA(1,0,1)(0,0,0)[12] intercept   : AIC=-29191.839, Time=0.78 sec\n",
      " ARIMA(1,0,1)(1,0,1)[12] intercept   : AIC=inf, Time=4.20 sec\n",
      " ARIMA(1,0,1)(1,0,0)[12] intercept   : AIC=-28368.769, Time=1.65 sec\n",
      " ARIMA(1,0,1)(1,0,2)[12] intercept   : AIC=-29139.315, Time=8.09 sec\n",
      " ARIMA(1,0,0)(0,0,1)[12] intercept   : AIC=-29168.677, Time=2.56 sec\n",
      " ARIMA(2,0,1)(0,0,1)[12] intercept   : AIC=-29059.168, Time=5.73 sec\n",
      " ARIMA(1,0,2)(0,0,1)[12] intercept   : AIC=-29211.992, Time=3.40 sec\n",
      " ARIMA(1,0,2)(0,0,0)[12] intercept   : AIC=-29208.508, Time=1.18 sec\n",
      " ARIMA(1,0,2)(1,0,1)[12] intercept   : AIC=inf, Time=4.63 sec\n",
      " ARIMA(1,0,2)(0,0,2)[12] intercept   : AIC=-29213.146, Time=7.53 sec\n",
      " ARIMA(1,0,2)(1,0,2)[12] intercept   : AIC=-27861.200, Time=4.07 sec\n",
      " ARIMA(0,0,2)(0,0,2)[12] intercept   : AIC=-29022.902, Time=6.89 sec\n",
      " ARIMA(2,0,2)(0,0,2)[12] intercept   : AIC=-29220.072, Time=8.33 sec\n",
      " ARIMA(2,0,2)(0,0,1)[12] intercept   : AIC=-29221.733, Time=4.29 sec\n",
      " ARIMA(2,0,2)(0,0,0)[12] intercept   : AIC=-29219.205, Time=1.55 sec\n",
      " ARIMA(2,0,2)(1,0,1)[12] intercept   : AIC=inf, Time=2.52 sec\n",
      " ARIMA(2,0,2)(1,0,0)[12] intercept   : AIC=-28384.175, Time=3.87 sec\n",
      " ARIMA(2,0,2)(1,0,2)[12] intercept   : AIC=-28003.927, Time=4.78 sec\n",
      " ARIMA(3,0,2)(0,0,1)[12] intercept   : AIC=-29223.748, Time=4.43 sec\n",
      " ARIMA(3,0,2)(0,0,0)[12] intercept   : AIC=-29213.591, Time=1.60 sec\n",
      " ARIMA(3,0,2)(1,0,1)[12] intercept   : AIC=inf, Time=5.77 sec\n",
      " ARIMA(3,0,2)(0,0,2)[12] intercept   : AIC=-29218.501, Time=10.15 sec\n",
      " ARIMA(3,0,2)(1,0,0)[12] intercept   : AIC=-28396.992, Time=4.73 sec\n",
      " ARIMA(3,0,2)(1,0,2)[12] intercept   : AIC=-27936.937, Time=8.92 sec\n",
      " ARIMA(3,0,1)(0,0,1)[12] intercept   : AIC=-29203.851, Time=1.72 sec\n",
      " ARIMA(4,0,2)(0,0,1)[12] intercept   : AIC=-29231.723, Time=5.02 sec\n",
      " ARIMA(4,0,2)(0,0,0)[12] intercept   : AIC=-29223.995, Time=2.05 sec\n",
      " ARIMA(4,0,2)(1,0,1)[12] intercept   : AIC=inf, Time=5.23 sec\n",
      " ARIMA(4,0,2)(0,0,2)[12] intercept   : AIC=-29223.993, Time=9.47 sec\n",
      " ARIMA(4,0,2)(1,0,0)[12] intercept   : AIC=-28382.669, Time=4.76 sec\n",
      " ARIMA(4,0,2)(1,0,2)[12] intercept   : AIC=-28092.540, Time=11.72 sec\n",
      " ARIMA(4,0,1)(0,0,1)[12] intercept   : AIC=-29220.364, Time=4.13 sec\n",
      " ARIMA(4,0,3)(0,0,1)[12] intercept   : AIC=-29256.055, Time=6.99 sec\n",
      " ARIMA(4,0,3)(0,0,0)[12] intercept   : AIC=-29258.006, Time=2.29 sec\n",
      " ARIMA(4,0,3)(1,0,0)[12] intercept   : AIC=-28351.416, Time=3.23 sec\n",
      " ARIMA(4,0,3)(1,0,1)[12] intercept   : AIC=inf, Time=3.40 sec\n",
      " ARIMA(3,0,3)(0,0,0)[12] intercept   : AIC=-29251.144, Time=2.06 sec\n",
      " ARIMA(4,0,4)(0,0,0)[12] intercept   : AIC=-29237.747, Time=8.41 sec\n",
      " ARIMA(3,0,4)(0,0,0)[12] intercept   : AIC=-29240.540, Time=2.63 sec\n",
      " ARIMA(4,0,3)(0,0,0)[12]             : AIC=-29222.709, Time=1.83 sec\n",
      "\n",
      "Best model:  ARIMA(4,0,3)(0,0,0)[12] intercept\n",
      "Total fit time: 226.525 seconds\n"
     ]
    },
    {
     "data": {
      "text/plain": [
       "{'maxiter': 50,\n",
       " 'method': 'lbfgs',\n",
       " 'order': (4, 0, 3),\n",
       " 'out_of_sample_size': 0,\n",
       " 'scoring': 'mse',\n",
       " 'scoring_args': {},\n",
       " 'seasonal_order': (0, 0, 0, 12),\n",
       " 'start_params': None,\n",
       " 'suppress_warnings': True,\n",
       " 'trend': None,\n",
       " 'with_intercept': True}"
      ]
     },
     "execution_count": 20,
     "metadata": {},
     "output_type": "execute_result"
    }
   ],
   "source": [
    "get_pdq_values(Colombo['HCHO Value'].dropna())"
   ]
  },
  {
   "cell_type": "markdown",
   "metadata": {},
   "source": [
    "#### ***Colombo forecast***"
   ]
  },
  {
   "cell_type": "code",
   "execution_count": 21,
   "metadata": {},
   "outputs": [
    {
     "name": "stdout",
     "output_type": "stream",
     "text": [
      "Performing stepwise search to minimize aic\n",
      " ARIMA(0,0,0)(1,0,1)[12] intercept   : AIC=inf, Time=3.13 sec\n",
      " ARIMA(0,0,0)(0,0,0)[12] intercept   : AIC=-28440.924, Time=0.17 sec\n",
      " ARIMA(1,0,0)(1,0,0)[12] intercept   : AIC=-28360.725, Time=1.83 sec\n",
      " ARIMA(0,0,1)(0,0,1)[12] intercept   : AIC=-28894.049, Time=2.67 sec\n",
      " ARIMA(0,0,0)(0,0,0)[12]             : AIC=-25928.600, Time=0.08 sec\n",
      " ARIMA(0,0,1)(0,0,0)[12] intercept   : AIC=-28855.829, Time=0.79 sec\n",
      " ARIMA(0,0,1)(1,0,1)[12] intercept   : AIC=inf, Time=4.87 sec\n",
      " ARIMA(0,0,1)(0,0,2)[12] intercept   : AIC=-28930.122, Time=5.78 sec\n",
      " ARIMA(0,0,1)(1,0,2)[12] intercept   : AIC=-28617.045, Time=9.85 sec\n",
      " ARIMA(0,0,0)(0,0,2)[12] intercept   : AIC=-28543.272, Time=3.78 sec\n",
      " ARIMA(1,0,1)(0,0,2)[12] intercept   : AIC=-29193.958, Time=5.78 sec\n",
      " ARIMA(1,0,1)(0,0,1)[12] intercept   : AIC=-29198.146, Time=2.78 sec\n",
      " ARIMA(1,0,1)(0,0,0)[12] intercept   : AIC=-29191.839, Time=0.82 sec\n",
      " ARIMA(1,0,1)(1,0,1)[12] intercept   : AIC=inf, Time=4.32 sec\n",
      " ARIMA(1,0,1)(1,0,0)[12] intercept   : AIC=-28368.769, Time=1.70 sec\n",
      " ARIMA(1,0,1)(1,0,2)[12] intercept   : AIC=-29139.315, Time=8.30 sec\n",
      " ARIMA(1,0,0)(0,0,1)[12] intercept   : AIC=-29168.677, Time=2.58 sec\n",
      " ARIMA(2,0,1)(0,0,1)[12] intercept   : AIC=-29059.168, Time=5.68 sec\n",
      " ARIMA(1,0,2)(0,0,1)[12] intercept   : AIC=-29211.992, Time=3.50 sec\n",
      " ARIMA(1,0,2)(0,0,0)[12] intercept   : AIC=-29208.508, Time=1.22 sec\n",
      " ARIMA(1,0,2)(1,0,1)[12] intercept   : AIC=inf, Time=3.72 sec\n",
      " ARIMA(1,0,2)(0,0,2)[12] intercept   : AIC=-29213.146, Time=7.10 sec\n",
      " ARIMA(1,0,2)(1,0,2)[12] intercept   : AIC=-27861.200, Time=4.00 sec\n",
      " ARIMA(0,0,2)(0,0,2)[12] intercept   : AIC=-29022.902, Time=6.85 sec\n",
      " ARIMA(2,0,2)(0,0,2)[12] intercept   : AIC=-29220.072, Time=8.17 sec\n",
      " ARIMA(2,0,2)(0,0,1)[12] intercept   : AIC=-29221.733, Time=3.90 sec\n",
      " ARIMA(2,0,2)(0,0,0)[12] intercept   : AIC=-29219.205, Time=1.62 sec\n",
      " ARIMA(2,0,2)(1,0,1)[12] intercept   : AIC=inf, Time=2.56 sec\n",
      " ARIMA(2,0,2)(1,0,0)[12] intercept   : AIC=-28384.175, Time=3.88 sec\n",
      " ARIMA(2,0,2)(1,0,2)[12] intercept   : AIC=-28003.927, Time=4.85 sec\n",
      " ARIMA(3,0,2)(0,0,1)[12] intercept   : AIC=-29223.748, Time=4.43 sec\n",
      " ARIMA(3,0,2)(0,0,0)[12] intercept   : AIC=-29213.591, Time=1.65 sec\n",
      " ARIMA(3,0,2)(1,0,1)[12] intercept   : AIC=inf, Time=5.85 sec\n",
      " ARIMA(3,0,2)(0,0,2)[12] intercept   : AIC=-29218.501, Time=10.22 sec\n",
      " ARIMA(3,0,2)(1,0,0)[12] intercept   : AIC=-28396.992, Time=4.77 sec\n",
      " ARIMA(3,0,2)(1,0,2)[12] intercept   : AIC=-27936.937, Time=8.83 sec\n",
      " ARIMA(3,0,1)(0,0,1)[12] intercept   : AIC=-29203.851, Time=1.62 sec\n",
      " ARIMA(4,0,2)(0,0,1)[12] intercept   : AIC=-29231.723, Time=4.93 sec\n",
      " ARIMA(4,0,2)(0,0,0)[12] intercept   : AIC=-29223.995, Time=2.08 sec\n",
      " ARIMA(4,0,2)(1,0,1)[12] intercept   : AIC=inf, Time=5.28 sec\n",
      " ARIMA(4,0,2)(0,0,2)[12] intercept   : AIC=-29223.993, Time=9.67 sec\n",
      " ARIMA(4,0,2)(1,0,0)[12] intercept   : AIC=-28382.669, Time=4.97 sec\n",
      " ARIMA(4,0,2)(1,0,2)[12] intercept   : AIC=-28092.540, Time=12.80 sec\n",
      " ARIMA(4,0,1)(0,0,1)[12] intercept   : AIC=-29220.364, Time=2.22 sec\n",
      " ARIMA(4,0,3)(0,0,1)[12] intercept   : AIC=-29256.055, Time=7.21 sec\n",
      " ARIMA(4,0,3)(0,0,0)[12] intercept   : AIC=-29258.006, Time=2.54 sec\n"
     ]
    }
   ],
   "source": [
    "get_pdq_values(Colombo['HCHO Value'].dropna())"
   ]
  },
  {
   "cell_type": "code",
   "execution_count": 13,
   "metadata": {},
   "outputs": [
    {
     "name": "stderr",
     "output_type": "stream",
     "text": [
      "C:\\Users\\Dell\\AppData\\Local\\Packages\\PythonSoftwareFoundation.Python.3.7_qbz5n2kfra8p0\\LocalCache\\local-packages\\Python37\\site-packages\\statsmodels\\tsa\\base\\tsa_model.py:471: ValueWarning: A date index has been provided, but it has no associated frequency information and so will be ignored when e.g. forecasting.\n",
      "  self._init_dates(dates, freq)\n",
      "C:\\Users\\Dell\\AppData\\Local\\Packages\\PythonSoftwareFoundation.Python.3.7_qbz5n2kfra8p0\\LocalCache\\local-packages\\Python37\\site-packages\\statsmodels\\tsa\\base\\tsa_model.py:471: ValueWarning: A date index has been provided, but it has no associated frequency information and so will be ignored when e.g. forecasting.\n",
      "  self._init_dates(dates, freq)\n",
      "C:\\Users\\Dell\\AppData\\Local\\Packages\\PythonSoftwareFoundation.Python.3.7_qbz5n2kfra8p0\\LocalCache\\local-packages\\Python37\\site-packages\\statsmodels\\base\\model.py:606: ConvergenceWarning: Maximum Likelihood optimization failed to converge. Check mle_retvals\n",
      "  ConvergenceWarning)\n",
      "C:\\Users\\Dell\\AppData\\Local\\Packages\\PythonSoftwareFoundation.Python.3.7_qbz5n2kfra8p0\\LocalCache\\local-packages\\Python37\\site-packages\\statsmodels\\tsa\\base\\tsa_model.py:843: ValueWarning: No supported index is available. Prediction results will be given with an integer index beginning at `start`.\n",
      "  data=self.data,\n"
     ]
    },
    {
     "data": {
      "image/png": "[encoded data removed]",
      "text/plain": [
       "<Figure size 432x288 with 1 Axes>"
      ]
     },
     "metadata": {
      "needs_background": "light"
     },
     "output_type": "display_data"
    }
   ],
   "source": [
    "Colombo_forecast =  forecast(Colombo, 'Colombo',(4,0,3),(0,0,0,12))\n"
   ]
  },
  {
   "cell_type": "markdown",
   "metadata": {},
   "source": [
    "#### ***Colombo Model Evaluation***"
   ]
  },
  {
   "cell_type": "code",
   "execution_count": 14,
   "metadata": {},
   "outputs": [
    {
     "name": "stderr",
     "output_type": "stream",
     "text": [
      "C:\\Users\\Dell\\AppData\\Local\\Packages\\PythonSoftwareFoundation.Python.3.7_qbz5n2kfra8p0\\LocalCache\\local-packages\\Python37\\site-packages\\statsmodels\\tsa\\base\\tsa_model.py:471: ValueWarning: A date index has been provided, but it has no associated frequency information and so will be ignored when e.g. forecasting.\n",
      "  self._init_dates(dates, freq)\n",
      "C:\\Users\\Dell\\AppData\\Local\\Packages\\PythonSoftwareFoundation.Python.3.7_qbz5n2kfra8p0\\LocalCache\\local-packages\\Python37\\site-packages\\statsmodels\\tsa\\base\\tsa_model.py:471: ValueWarning: A date index has been provided, but it has no associated frequency information and so will be ignored when e.g. forecasting.\n",
      "  self._init_dates(dates, freq)\n"
     ]
    },
    {
     "name": "stdout",
     "output_type": "stream",
     "text": [
      "RMSE Score: 0.00010008964382346295\n",
      "MSE Score: 1.0017936800707675e-08\n",
      "MAE Score: 7.906708916521163e-05\n"
     ]
    },
    {
     "name": "stderr",
     "output_type": "stream",
     "text": [
      "C:\\Users\\Dell\\AppData\\Local\\Packages\\PythonSoftwareFoundation.Python.3.7_qbz5n2kfra8p0\\LocalCache\\local-packages\\Python37\\site-packages\\statsmodels\\base\\model.py:606: ConvergenceWarning: Maximum Likelihood optimization failed to converge. Check mle_retvals\n",
      "  ConvergenceWarning)\n",
      "C:\\Users\\Dell\\AppData\\Local\\Packages\\PythonSoftwareFoundation.Python.3.7_qbz5n2kfra8p0\\LocalCache\\local-packages\\Python37\\site-packages\\statsmodels\\tsa\\base\\tsa_model.py:843: ValueWarning: No supported index is available. Prediction results will be given with an integer index beginning at `start`.\n",
      "  data=self.data,\n"
     ]
    }
   ],
   "source": [
    "Evaluate(Colombo, 'Colombo',(4,0,3),(0,0,0,12))"
   ]
  },
  {
   "cell_type": "markdown",
   "metadata": {},
   "source": [
    "## <center>***Bible***</center>"
   ]
  },
  {
   "cell_type": "markdown",
   "metadata": {},
   "source": [
    "#### ***Bible forecast***"
   ]
  },
  {
   "cell_type": "code",
   "execution_count": null,
   "metadata": {},
   "outputs": [
    {
     "name": "stdout",
     "output_type": "stream",
     "text": [
      "Performing stepwise search to minimize aic\n",
      " ARIMA(0,0,0)(1,0,1)[12] intercept   : AIC=-28541.627, Time=3.90 sec\n",
      " ARIMA(0,0,0)(0,0,0)[12] intercept   : AIC=-28630.449, Time=0.16 sec\n",
      " ARIMA(1,0,0)(1,0,0)[12] intercept   : AIC=-28626.791, Time=1.88 sec\n",
      " ARIMA(0,0,1)(0,0,1)[12] intercept   : AIC=-29083.313, Time=2.88 sec\n",
      " ARIMA(0,0,0)(0,0,0)[12]             : AIC=-26557.140, Time=0.06 sec\n",
      " ARIMA(0,0,1)(0,0,0)[12] intercept   : AIC=-29065.029, Time=0.74 sec\n",
      " ARIMA(0,0,1)(1,0,1)[12] intercept   : AIC=-29076.663, Time=5.63 sec\n",
      " ARIMA(0,0,1)(0,0,2)[12] intercept   : AIC=-29102.224, Time=4.92 sec\n",
      " ARIMA(0,0,1)(1,0,2)[12] intercept   : AIC=-29095.974, Time=9.12 sec\n",
      " ARIMA(0,0,0)(0,0,2)[12] intercept   : AIC=-28684.387, Time=3.35 sec\n",
      " ARIMA(1,0,1)(0,0,2)[12] intercept   : AIC=-29363.222, Time=5.55 sec\n",
      " ARIMA(1,0,1)(0,0,1)[12] intercept   : AIC=-29365.550, Time=2.68 sec\n",
      " ARIMA(1,0,1)(0,0,0)[12] intercept   : AIC=-29367.202, Time=0.75 sec\n",
      " ARIMA(1,0,1)(1,0,0)[12] intercept   : AIC=-28654.177, Time=1.40 sec\n",
      " ARIMA(1,0,1)(1,0,1)[12] intercept   : AIC=-29308.346, Time=3.33 sec\n",
      " ARIMA(1,0,0)(0,0,0)[12] intercept   : AIC=-29344.139, Time=0.65 sec\n",
      " ARIMA(2,0,1)(0,0,0)[12] intercept   : AIC=-29365.655, Time=0.95 sec\n",
      " ARIMA(1,0,2)(0,0,0)[12] intercept   : AIC=-29367.552, Time=1.45 sec\n",
      " ARIMA(1,0,2)(1,0,0)[12] intercept   : AIC=-28635.310, Time=2.03 sec\n",
      " ARIMA(1,0,2)(0,0,1)[12] intercept   : AIC=-29365.658, Time=3.35 sec\n",
      " ARIMA(1,0,2)(1,0,1)[12] intercept   : AIC=-29187.417, Time=4.03 sec\n",
      " ARIMA(0,0,2)(0,0,0)[12] intercept   : AIC=-29223.515, Time=1.07 sec\n",
      " ARIMA(2,0,2)(0,0,0)[12] intercept   : AIC=-29342.770, Time=1.40 sec\n",
      " ARIMA(1,0,3)(0,0,0)[12] intercept   : AIC=-29366.972, Time=1.57 sec\n",
      " ARIMA(0,0,3)(0,0,0)[12] intercept   : AIC=-29282.464, Time=1.43 sec\n",
      " ARIMA(2,0,3)(0,0,0)[12] intercept   : AIC=-29362.579, Time=1.72 sec\n",
      " ARIMA(1,0,2)(0,0,0)[12]             : AIC=-29268.466, Time=0.70 sec\n",
      "\n",
      "Best model:  ARIMA(1,0,2)(0,0,0)[12] intercept\n",
      "Total fit time: 66.731 seconds\n"
     ]
    },
    {
     "data": {
      "text/plain": [
       "{'maxiter': 50,\n",
       " 'method': 'lbfgs',\n",
       " 'order': (1, 0, 2),\n",
       " 'out_of_sample_size': 0,\n",
       " 'scoring': 'mse',\n",
       " 'scoring_args': {},\n",
       " 'seasonal_order': (0, 0, 0, 12),\n",
       " 'start_params': None,\n",
       " 'suppress_warnings': True,\n",
       " 'trend': None,\n",
       " 'with_intercept': True}"
      ]
     },
     "execution_count": 111,
     "metadata": {},
     "output_type": "execute_result"
    }
   ],
   "source": [
    "get_pdq_values(Bibile['HCHO Value'].dropna())"
   ]
  },
  {
   "cell_type": "code",
   "execution_count": 15,
   "metadata": {},
   "outputs": [
    {
     "name": "stderr",
     "output_type": "stream",
     "text": [
      "C:\\Users\\Dell\\AppData\\Local\\Packages\\PythonSoftwareFoundation.Python.3.7_qbz5n2kfra8p0\\LocalCache\\local-packages\\Python37\\site-packages\\statsmodels\\tsa\\base\\tsa_model.py:471: ValueWarning: A date index has been provided, but it has no associated frequency information and so will be ignored when e.g. forecasting.\n",
      "  self._init_dates(dates, freq)\n",
      "C:\\Users\\Dell\\AppData\\Local\\Packages\\PythonSoftwareFoundation.Python.3.7_qbz5n2kfra8p0\\LocalCache\\local-packages\\Python37\\site-packages\\statsmodels\\tsa\\base\\tsa_model.py:471: ValueWarning: A date index has been provided, but it has no associated frequency information and so will be ignored when e.g. forecasting.\n",
      "  self._init_dates(dates, freq)\n",
      "C:\\Users\\Dell\\AppData\\Local\\Packages\\PythonSoftwareFoundation.Python.3.7_qbz5n2kfra8p0\\LocalCache\\local-packages\\Python37\\site-packages\\statsmodels\\base\\model.py:606: ConvergenceWarning: Maximum Likelihood optimization failed to converge. Check mle_retvals\n",
      "  ConvergenceWarning)\n",
      "C:\\Users\\Dell\\AppData\\Local\\Packages\\PythonSoftwareFoundation.Python.3.7_qbz5n2kfra8p0\\LocalCache\\local-packages\\Python37\\site-packages\\statsmodels\\tsa\\base\\tsa_model.py:843: ValueWarning: No supported index is available. Prediction results will be given with an integer index beginning at `start`.\n",
      "  data=self.data,\n"
     ]
    },
    {
     "data": {
      "image/png": "[encoded data removed]",
      "text/plain": [
       "<Figure size 432x288 with 1 Axes>"
      ]
     },
     "metadata": {
      "needs_background": "light"
     },
     "output_type": "display_data"
    }
   ],
   "source": [
    "Bibile_forecast =forecast(Bibile, 'Bibile',(1,0,2),(0,0,0,12))"
   ]
  },
  {
   "cell_type": "markdown",
   "metadata": {},
   "source": [
    "#### ***Bible Model Evaluation***"
   ]
  },
  {
   "cell_type": "code",
   "execution_count": 16,
   "metadata": {},
   "outputs": [
    {
     "name": "stderr",
     "output_type": "stream",
     "text": [
      "C:\\Users\\Dell\\AppData\\Local\\Packages\\PythonSoftwareFoundation.Python.3.7_qbz5n2kfra8p0\\LocalCache\\local-packages\\Python37\\site-packages\\statsmodels\\tsa\\base\\tsa_model.py:471: ValueWarning: A date index has been provided, but it has no associated frequency information and so will be ignored when e.g. forecasting.\n",
      "  self._init_dates(dates, freq)\n",
      "C:\\Users\\Dell\\AppData\\Local\\Packages\\PythonSoftwareFoundation.Python.3.7_qbz5n2kfra8p0\\LocalCache\\local-packages\\Python37\\site-packages\\statsmodels\\tsa\\base\\tsa_model.py:471: ValueWarning: A date index has been provided, but it has no associated frequency information and so will be ignored when e.g. forecasting.\n",
      "  self._init_dates(dates, freq)\n"
     ]
    },
    {
     "name": "stdout",
     "output_type": "stream",
     "text": [
      "RMSE Score: 0.00014213771606628325\n",
      "MSE Score: 2.0203130328539358e-08\n",
      "MAE Score: 0.00011964347153111204\n"
     ]
    },
    {
     "name": "stderr",
     "output_type": "stream",
     "text": [
      "C:\\Users\\Dell\\AppData\\Local\\Packages\\PythonSoftwareFoundation.Python.3.7_qbz5n2kfra8p0\\LocalCache\\local-packages\\Python37\\site-packages\\statsmodels\\base\\model.py:606: ConvergenceWarning: Maximum Likelihood optimization failed to converge. Check mle_retvals\n",
      "  ConvergenceWarning)\n",
      "C:\\Users\\Dell\\AppData\\Local\\Packages\\PythonSoftwareFoundation.Python.3.7_qbz5n2kfra8p0\\LocalCache\\local-packages\\Python37\\site-packages\\statsmodels\\tsa\\base\\tsa_model.py:843: ValueWarning: No supported index is available. Prediction results will be given with an integer index beginning at `start`.\n",
      "  data=self.data,\n"
     ]
    }
   ],
   "source": [
    "Evaluate(Bibile, 'Bibile',(1,0,2),(0,0,0,12))"
   ]
  },
  {
   "cell_type": "markdown",
   "metadata": {},
   "source": [
    "## <center>***Deniyaya***</center>"
   ]
  },
  {
   "cell_type": "markdown",
   "metadata": {},
   "source": [
    "#### ***Deniyaya forecast***"
   ]
  },
  {
   "cell_type": "code",
   "execution_count": null,
   "metadata": {},
   "outputs": [
    {
     "name": "stdout",
     "output_type": "stream",
     "text": [
      "Performing stepwise search to minimize aic\n",
      " ARIMA(0,0,0)(1,0,1)[12] intercept   : AIC=-28618.496, Time=2.59 sec\n",
      " ARIMA(0,0,0)(0,0,0)[12] intercept   : AIC=-28725.509, Time=0.17 sec\n",
      " ARIMA(1,0,0)(1,0,0)[12] intercept   : AIC=-28928.103, Time=2.75 sec\n",
      " ARIMA(0,0,1)(0,0,1)[12] intercept   : AIC=-29245.727, Time=2.04 sec\n",
      " ARIMA(0,0,0)(0,0,0)[12]             : AIC=-27113.242, Time=0.06 sec\n",
      " ARIMA(0,0,1)(0,0,0)[12] intercept   : AIC=-29259.139, Time=0.57 sec\n",
      " ARIMA(0,0,1)(1,0,0)[12] intercept   : AIC=-28743.086, Time=1.79 sec\n",
      " ARIMA(0,0,1)(1,0,1)[12] intercept   : AIC=-29169.525, Time=3.85 sec\n",
      " ARIMA(1,0,1)(0,0,0)[12] intercept   : AIC=-29483.901, Time=0.94 sec\n",
      " ARIMA(1,0,1)(1,0,0)[12] intercept   : AIC=-28923.645, Time=2.16 sec\n",
      " ARIMA(1,0,1)(0,0,1)[12] intercept   : AIC=-29465.916, Time=1.08 sec\n",
      " ARIMA(1,0,1)(1,0,1)[12] intercept   : AIC=-29375.090, Time=3.02 sec\n",
      " ARIMA(1,0,0)(0,0,0)[12] intercept   : AIC=-29482.789, Time=0.44 sec\n",
      " ARIMA(2,0,1)(0,0,0)[12] intercept   : AIC=-29426.178, Time=0.91 sec\n",
      " ARIMA(1,0,2)(0,0,0)[12] intercept   : AIC=-29486.433, Time=1.36 sec\n",
      " ARIMA(1,0,2)(1,0,0)[12] intercept   : AIC=-28923.441, Time=1.89 sec\n",
      " ARIMA(1,0,2)(0,0,1)[12] intercept   : AIC=-29468.545, Time=3.79 sec\n",
      " ARIMA(1,0,2)(1,0,1)[12] intercept   : AIC=-29338.206, Time=3.78 sec\n",
      " ARIMA(0,0,2)(0,0,0)[12] intercept   : AIC=-29363.711, Time=1.05 sec\n",
      " ARIMA(2,0,2)(0,0,0)[12] intercept   : AIC=-29487.806, Time=1.43 sec\n",
      " ARIMA(2,0,2)(1,0,0)[12] intercept   : AIC=-28924.484, Time=2.79 sec\n",
      " ARIMA(2,0,2)(0,0,1)[12] intercept   : AIC=-29469.575, Time=4.70 sec\n",
      " ARIMA(2,0,2)(1,0,1)[12] intercept   : AIC=-29314.531, Time=4.04 sec\n",
      " ARIMA(3,0,2)(0,0,0)[12] intercept   : AIC=-29485.631, Time=1.67 sec\n",
      " ARIMA(2,0,3)(0,0,0)[12] intercept   : AIC=-29486.934, Time=0.73 sec\n",
      " ARIMA(1,0,3)(0,0,0)[12] intercept   : AIC=-29486.376, Time=1.63 sec\n",
      " ARIMA(3,0,1)(0,0,0)[12] intercept   : AIC=-29480.364, Time=0.57 sec\n",
      " ARIMA(3,0,3)(0,0,0)[12] intercept   : AIC=-29484.777, Time=0.82 sec\n",
      " ARIMA(2,0,2)(0,0,0)[12]             : AIC=-29365.005, Time=0.77 sec\n",
      "\n",
      "Best model:  ARIMA(2,0,2)(0,0,0)[12] intercept\n",
      "Total fit time: 53.403 seconds\n"
     ]
    },
    {
     "data": {
      "text/plain": [
       "{'maxiter': 50,\n",
       " 'method': 'lbfgs',\n",
       " 'order': (2, 0, 2),\n",
       " 'out_of_sample_size': 0,\n",
       " 'scoring': 'mse',\n",
       " 'scoring_args': {},\n",
       " 'seasonal_order': (0, 0, 0, 12),\n",
       " 'start_params': None,\n",
       " 'suppress_warnings': True,\n",
       " 'trend': None,\n",
       " 'with_intercept': True}"
      ]
     },
     "execution_count": 114,
     "metadata": {},
     "output_type": "execute_result"
    }
   ],
   "source": [
    "get_pdq_values(Deniyaya['HCHO Value'].dropna())"
   ]
  },
  {
   "cell_type": "code",
   "execution_count": 17,
   "metadata": {},
   "outputs": [
    {
     "name": "stderr",
     "output_type": "stream",
     "text": [
      "C:\\Users\\Dell\\AppData\\Local\\Packages\\PythonSoftwareFoundation.Python.3.7_qbz5n2kfra8p0\\LocalCache\\local-packages\\Python37\\site-packages\\statsmodels\\tsa\\base\\tsa_model.py:471: ValueWarning: A date index has been provided, but it has no associated frequency information and so will be ignored when e.g. forecasting.\n",
      "  self._init_dates(dates, freq)\n",
      "C:\\Users\\Dell\\AppData\\Local\\Packages\\PythonSoftwareFoundation.Python.3.7_qbz5n2kfra8p0\\LocalCache\\local-packages\\Python37\\site-packages\\statsmodels\\tsa\\base\\tsa_model.py:471: ValueWarning: A date index has been provided, but it has no associated frequency information and so will be ignored when e.g. forecasting.\n",
      "  self._init_dates(dates, freq)\n",
      "C:\\Users\\Dell\\AppData\\Local\\Packages\\PythonSoftwareFoundation.Python.3.7_qbz5n2kfra8p0\\LocalCache\\local-packages\\Python37\\site-packages\\statsmodels\\base\\model.py:606: ConvergenceWarning: Maximum Likelihood optimization failed to converge. Check mle_retvals\n",
      "  ConvergenceWarning)\n",
      "C:\\Users\\Dell\\AppData\\Local\\Packages\\PythonSoftwareFoundation.Python.3.7_qbz5n2kfra8p0\\LocalCache\\local-packages\\Python37\\site-packages\\statsmodels\\tsa\\base\\tsa_model.py:843: ValueWarning: No supported index is available. Prediction results will be given with an integer index beginning at `start`.\n",
      "  data=self.data,\n"
     ]
    },
    {
     "data": {
      "image/png": "[encoded data removed]",
      "text/plain": [
       "<Figure size 432x288 with 1 Axes>"
      ]
     },
     "metadata": {
      "needs_background": "light"
     },
     "output_type": "display_data"
    }
   ],
   "source": [
    "Deniyaya_forecast = forecast(Deniyaya, 'Deniyaya',(2,0,2),(0,0,0,12))"
   ]
  },
  {
   "cell_type": "markdown",
   "metadata": {},
   "source": [
    "#### ***Deniyaya Model Evaluation***"
   ]
  },
  {
   "cell_type": "code",
   "execution_count": 18,
   "metadata": {},
   "outputs": [
    {
     "name": "stderr",
     "output_type": "stream",
     "text": [
      "C:\\Users\\Dell\\AppData\\Local\\Packages\\PythonSoftwareFoundation.Python.3.7_qbz5n2kfra8p0\\LocalCache\\local-packages\\Python37\\site-packages\\statsmodels\\tsa\\base\\tsa_model.py:471: ValueWarning: A date index has been provided, but it has no associated frequency information and so will be ignored when e.g. forecasting.\n",
      "  self._init_dates(dates, freq)\n",
      "C:\\Users\\Dell\\AppData\\Local\\Packages\\PythonSoftwareFoundation.Python.3.7_qbz5n2kfra8p0\\LocalCache\\local-packages\\Python37\\site-packages\\statsmodels\\tsa\\base\\tsa_model.py:471: ValueWarning: A date index has been provided, but it has no associated frequency information and so will be ignored when e.g. forecasting.\n",
      "  self._init_dates(dates, freq)\n"
     ]
    },
    {
     "name": "stdout",
     "output_type": "stream",
     "text": [
      "RMSE Score: 0.00010649720746952461\n",
      "MSE Score: 1.134165519880697e-08\n",
      "MAE Score: 8.622127923068206e-05\n"
     ]
    },
    {
     "name": "stderr",
     "output_type": "stream",
     "text": [
      "C:\\Users\\Dell\\AppData\\Local\\Packages\\PythonSoftwareFoundation.Python.3.7_qbz5n2kfra8p0\\LocalCache\\local-packages\\Python37\\site-packages\\statsmodels\\base\\model.py:606: ConvergenceWarning: Maximum Likelihood optimization failed to converge. Check mle_retvals\n",
      "  ConvergenceWarning)\n",
      "C:\\Users\\Dell\\AppData\\Local\\Packages\\PythonSoftwareFoundation.Python.3.7_qbz5n2kfra8p0\\LocalCache\\local-packages\\Python37\\site-packages\\statsmodels\\tsa\\base\\tsa_model.py:843: ValueWarning: No supported index is available. Prediction results will be given with an integer index beginning at `start`.\n",
      "  data=self.data,\n"
     ]
    }
   ],
   "source": [
    "Evaluate(Deniyaya, 'Deniyaya',(2,0,2),(0,0,0,12))"
   ]
  },
  {
   "cell_type": "markdown",
   "metadata": {},
   "source": [
    "## <center>***Jaffna***</center>"
   ]
  },
  {
   "cell_type": "markdown",
   "metadata": {},
   "source": [
    "#### ***Jaffna forecast***"
   ]
  },
  {
   "cell_type": "code",
   "execution_count": null,
   "metadata": {},
   "outputs": [
    {
     "name": "stdout",
     "output_type": "stream",
     "text": [
      "Performing stepwise search to minimize aic\n",
      " ARIMA(0,0,0)(1,0,1)[12] intercept   : AIC=-29089.895, Time=3.97 sec\n",
      " ARIMA(0,0,0)(0,0,0)[12] intercept   : AIC=-29168.252, Time=0.16 sec\n",
      " ARIMA(1,0,0)(1,0,0)[12] intercept   : AIC=-28633.353, Time=2.02 sec\n",
      " ARIMA(0,0,1)(0,0,1)[12] intercept   : AIC=-29335.790, Time=2.61 sec\n",
      " ARIMA(0,0,0)(0,0,0)[12]             : AIC=-26750.831, Time=0.06 sec\n",
      " ARIMA(0,0,1)(0,0,0)[12] intercept   : AIC=-29326.931, Time=0.59 sec\n",
      " ARIMA(0,0,1)(1,0,1)[12] intercept   : AIC=-28761.418, Time=3.74 sec\n",
      " ARIMA(0,0,1)(0,0,2)[12] intercept   : AIC=-29334.160, Time=5.60 sec\n",
      " ARIMA(0,0,1)(1,0,0)[12] intercept   : AIC=-28638.613, Time=1.94 sec\n",
      " ARIMA(0,0,1)(1,0,2)[12] intercept   : AIC=inf, Time=9.28 sec\n",
      " ARIMA(0,0,0)(0,0,1)[12] intercept   : AIC=-29182.969, Time=1.78 sec\n",
      " ARIMA(1,0,1)(0,0,1)[12] intercept   : AIC=-29397.307, Time=2.80 sec\n",
      " ARIMA(1,0,1)(0,0,0)[12] intercept   : AIC=-29396.908, Time=0.77 sec\n",
      " ARIMA(1,0,1)(1,0,1)[12] intercept   : AIC=-29277.522, Time=5.82 sec\n",
      " ARIMA(1,0,1)(0,0,2)[12] intercept   : AIC=-29396.481, Time=5.45 sec\n",
      " ARIMA(1,0,1)(1,0,0)[12] intercept   : AIC=-28658.005, Time=1.70 sec\n",
      " ARIMA(1,0,1)(1,0,2)[12] intercept   : AIC=inf, Time=10.15 sec\n",
      " ARIMA(1,0,0)(0,0,1)[12] intercept   : AIC=-29393.115, Time=1.60 sec\n",
      " ARIMA(2,0,1)(0,0,1)[12] intercept   : AIC=-29398.684, Time=3.97 sec\n",
      " ARIMA(2,0,1)(0,0,0)[12] intercept   : AIC=-29399.998, Time=1.17 sec\n",
      " ARIMA(2,0,1)(1,0,0)[12] intercept   : AIC=-28632.530, Time=3.42 sec\n",
      " ARIMA(2,0,1)(1,0,1)[12] intercept   : AIC=-29299.682, Time=5.39 sec\n",
      " ARIMA(2,0,0)(0,0,0)[12] intercept   : AIC=-29402.061, Time=0.87 sec\n",
      " ARIMA(2,0,0)(1,0,0)[12] intercept   : AIC=-28631.651, Time=2.98 sec\n",
      " ARIMA(2,0,0)(0,0,1)[12] intercept   : AIC=-29400.516, Time=2.89 sec\n",
      " ARIMA(2,0,0)(1,0,1)[12] intercept   : AIC=-28749.644, Time=9.40 sec\n",
      " ARIMA(1,0,0)(0,0,0)[12] intercept   : AIC=-29392.336, Time=0.58 sec\n",
      " ARIMA(3,0,0)(0,0,0)[12] intercept   : AIC=-29400.106, Time=1.34 sec\n",
      " ARIMA(3,0,1)(0,0,0)[12] intercept   : AIC=-29392.851, Time=0.62 sec\n",
      " ARIMA(2,0,0)(0,0,0)[12]             : AIC=-29045.728, Time=0.28 sec\n",
      "\n",
      "Best model:  ARIMA(2,0,0)(0,0,0)[12] intercept\n",
      "Total fit time: 92.990 seconds\n"
     ]
    },
    {
     "data": {
      "text/plain": [
       "{'maxiter': 50,\n",
       " 'method': 'lbfgs',\n",
       " 'order': (2, 0, 0),\n",
       " 'out_of_sample_size': 0,\n",
       " 'scoring': 'mse',\n",
       " 'scoring_args': {},\n",
       " 'seasonal_order': (0, 0, 0, 12),\n",
       " 'start_params': None,\n",
       " 'suppress_warnings': True,\n",
       " 'trend': None,\n",
       " 'with_intercept': True}"
      ]
     },
     "execution_count": 117,
     "metadata": {},
     "output_type": "execute_result"
    }
   ],
   "source": [
    "get_pdq_values(Jaffna['HCHO Value'].dropna())"
   ]
  },
  {
   "cell_type": "code",
   "execution_count": 19,
   "metadata": {},
   "outputs": [
    {
     "name": "stderr",
     "output_type": "stream",
     "text": [
      "C:\\Users\\Dell\\AppData\\Local\\Packages\\PythonSoftwareFoundation.Python.3.7_qbz5n2kfra8p0\\LocalCache\\local-packages\\Python37\\site-packages\\statsmodels\\tsa\\base\\tsa_model.py:471: ValueWarning: A date index has been provided, but it has no associated frequency information and so will be ignored when e.g. forecasting.\n",
      "  self._init_dates(dates, freq)\n",
      "C:\\Users\\Dell\\AppData\\Local\\Packages\\PythonSoftwareFoundation.Python.3.7_qbz5n2kfra8p0\\LocalCache\\local-packages\\Python37\\site-packages\\statsmodels\\tsa\\base\\tsa_model.py:471: ValueWarning: A date index has been provided, but it has no associated frequency information and so will be ignored when e.g. forecasting.\n",
      "  self._init_dates(dates, freq)\n",
      "C:\\Users\\Dell\\AppData\\Local\\Packages\\PythonSoftwareFoundation.Python.3.7_qbz5n2kfra8p0\\LocalCache\\local-packages\\Python37\\site-packages\\statsmodels\\tsa\\base\\tsa_model.py:843: ValueWarning: No supported index is available. Prediction results will be given with an integer index beginning at `start`.\n",
      "  data=self.data,\n"
     ]
    },
    {
     "data": {
      "image/png": "[encoded data removed]",
      "text/plain": [
       "<Figure size 432x288 with 1 Axes>"
      ]
     },
     "metadata": {
      "needs_background": "light"
     },
     "output_type": "display_data"
    }
   ],
   "source": [
    "Jaffna_forecast = forecast(Jaffna, 'Jaffna',(2,0,0),(0,0,0,12))"
   ]
  },
  {
   "cell_type": "markdown",
   "metadata": {},
   "source": [
    "#### ***Jaffna Model Evaluation***"
   ]
  },
  {
   "cell_type": "code",
   "execution_count": 20,
   "metadata": {},
   "outputs": [
    {
     "name": "stderr",
     "output_type": "stream",
     "text": [
      "C:\\Users\\Dell\\AppData\\Local\\Packages\\PythonSoftwareFoundation.Python.3.7_qbz5n2kfra8p0\\LocalCache\\local-packages\\Python37\\site-packages\\statsmodels\\tsa\\base\\tsa_model.py:471: ValueWarning: A date index has been provided, but it has no associated frequency information and so will be ignored when e.g. forecasting.\n",
      "  self._init_dates(dates, freq)\n",
      "C:\\Users\\Dell\\AppData\\Local\\Packages\\PythonSoftwareFoundation.Python.3.7_qbz5n2kfra8p0\\LocalCache\\local-packages\\Python37\\site-packages\\statsmodels\\tsa\\base\\tsa_model.py:471: ValueWarning: A date index has been provided, but it has no associated frequency information and so will be ignored when e.g. forecasting.\n",
      "  self._init_dates(dates, freq)\n"
     ]
    },
    {
     "name": "stdout",
     "output_type": "stream",
     "text": [
      "RMSE Score: 0.00012132334655387287\n",
      "MSE Score: 1.4719354419031134e-08\n",
      "MAE Score: 0.00010655976311839993\n"
     ]
    },
    {
     "name": "stderr",
     "output_type": "stream",
     "text": [
      "C:\\Users\\Dell\\AppData\\Local\\Packages\\PythonSoftwareFoundation.Python.3.7_qbz5n2kfra8p0\\LocalCache\\local-packages\\Python37\\site-packages\\statsmodels\\tsa\\base\\tsa_model.py:843: ValueWarning: No supported index is available. Prediction results will be given with an integer index beginning at `start`.\n",
      "  data=self.data,\n"
     ]
    }
   ],
   "source": [
    "Evaluate(Jaffna, 'Jaffna',(2,0,0),(0,0,0,12))"
   ]
  },
  {
   "cell_type": "markdown",
   "metadata": {},
   "source": [
    "## <center>***Kurunegala***</center>"
   ]
  },
  {
   "cell_type": "markdown",
   "metadata": {},
   "source": [
    "#### ***Kurunegala forecast***"
   ]
  },
  {
   "cell_type": "code",
   "execution_count": null,
   "metadata": {},
   "outputs": [
    {
     "name": "stdout",
     "output_type": "stream",
     "text": [
      "Performing stepwise search to minimize aic\n",
      " ARIMA(0,0,0)(1,0,1)[12] intercept   : AIC=-28661.200, Time=2.73 sec\n",
      " ARIMA(0,0,0)(0,0,0)[12] intercept   : AIC=-28857.505, Time=0.14 sec\n",
      " ARIMA(1,0,0)(1,0,0)[12] intercept   : AIC=-28677.064, Time=1.23 sec\n",
      " ARIMA(0,0,1)(0,0,1)[12] intercept   : AIC=-29249.270, Time=2.56 sec\n",
      " ARIMA(0,0,0)(0,0,0)[12]             : AIC=-26510.555, Time=0.05 sec\n",
      " ARIMA(0,0,1)(0,0,0)[12] intercept   : AIC=-29205.225, Time=0.65 sec\n",
      " ARIMA(0,0,1)(1,0,1)[12] intercept   : AIC=-29025.761, Time=4.97 sec\n",
      " ARIMA(0,0,1)(0,0,2)[12] intercept   : AIC=-29252.754, Time=5.48 sec\n",
      " ARIMA(0,0,1)(1,0,2)[12] intercept   : AIC=-29157.823, Time=9.50 sec\n",
      " ARIMA(0,0,0)(0,0,2)[12] intercept   : AIC=-28934.471, Time=3.67 sec\n",
      " ARIMA(1,0,1)(0,0,2)[12] intercept   : AIC=-29450.791, Time=6.89 sec\n",
      " ARIMA(1,0,1)(0,0,1)[12] intercept   : AIC=-29453.745, Time=2.67 sec\n",
      " ARIMA(1,0,1)(0,0,0)[12] intercept   : AIC=-29458.902, Time=0.77 sec\n",
      " ARIMA(1,0,1)(1,0,0)[12] intercept   : AIC=-28691.825, Time=2.12 sec\n",
      " ARIMA(1,0,1)(1,0,1)[12] intercept   : AIC=-29357.948, Time=5.47 sec\n",
      " ARIMA(1,0,0)(0,0,0)[12] intercept   : AIC=-29433.527, Time=0.55 sec\n",
      " ARIMA(2,0,1)(0,0,0)[12] intercept   : AIC=-29437.233, Time=1.00 sec\n",
      " ARIMA(1,0,2)(0,0,0)[12] intercept   : AIC=-29462.583, Time=1.35 sec\n",
      " ARIMA(1,0,2)(1,0,0)[12] intercept   : AIC=-28718.495, Time=3.50 sec\n",
      " ARIMA(1,0,2)(0,0,1)[12] intercept   : AIC=-29456.852, Time=3.08 sec\n",
      " ARIMA(1,0,2)(1,0,1)[12] intercept   : AIC=-29265.095, Time=4.12 sec\n",
      " ARIMA(0,0,2)(0,0,0)[12] intercept   : AIC=-29317.675, Time=1.23 sec\n",
      " ARIMA(2,0,2)(0,0,0)[12] intercept   : AIC=-29465.405, Time=2.05 sec\n",
      " ARIMA(2,0,2)(1,0,0)[12] intercept   : AIC=-28709.700, Time=3.50 sec\n",
      " ARIMA(2,0,2)(0,0,1)[12] intercept   : AIC=-29457.049, Time=3.52 sec\n",
      " ARIMA(2,0,2)(1,0,1)[12] intercept   : AIC=-29290.485, Time=4.62 sec\n",
      " ARIMA(3,0,2)(0,0,0)[12] intercept   : AIC=-29469.870, Time=2.18 sec\n",
      " ARIMA(3,0,2)(1,0,0)[12] intercept   : AIC=-28699.743, Time=5.47 sec\n",
      " ARIMA(3,0,2)(0,0,1)[12] intercept   : AIC=-29458.943, Time=4.12 sec\n",
      " ARIMA(3,0,2)(1,0,1)[12] intercept   : AIC=-29311.288, Time=5.08 sec\n",
      " ARIMA(3,0,1)(0,0,0)[12] intercept   : AIC=-29461.986, Time=0.58 sec\n",
      " ARIMA(4,0,2)(0,0,0)[12] intercept   : AIC=-29437.342, Time=1.90 sec\n",
      " ARIMA(3,0,3)(0,0,0)[12] intercept   : AIC=-29473.585, Time=2.20 sec\n",
      " ARIMA(3,0,3)(1,0,0)[12] intercept   : AIC=-28706.399, Time=4.82 sec\n",
      " ARIMA(3,0,3)(0,0,1)[12] intercept   : AIC=-29461.906, Time=4.25 sec\n",
      " ARIMA(3,0,3)(1,0,1)[12] intercept   : AIC=-29213.110, Time=5.98 sec\n",
      " ARIMA(2,0,3)(0,0,0)[12] intercept   : AIC=-29476.214, Time=2.35 sec\n",
      " ARIMA(2,0,3)(1,0,0)[12] intercept   : AIC=-28706.524, Time=4.18 sec\n",
      " ARIMA(2,0,3)(0,0,1)[12] intercept   : AIC=-29464.116, Time=3.99 sec\n",
      " ARIMA(2,0,3)(1,0,1)[12] intercept   : AIC=-29223.473, Time=5.38 sec\n",
      " ARIMA(1,0,3)(0,0,0)[12] intercept   : AIC=-29457.148, Time=1.76 sec\n",
      " ARIMA(2,0,4)(0,0,0)[12] intercept   : AIC=-29482.699, Time=3.09 sec\n",
      " ARIMA(2,0,4)(1,0,0)[12] intercept   : AIC=-28707.502, Time=4.70 sec\n",
      " ARIMA(2,0,4)(0,0,1)[12] intercept   : AIC=-29468.070, Time=5.00 sec\n",
      " ARIMA(2,0,4)(1,0,1)[12] intercept   : AIC=-28847.740, Time=5.71 sec\n",
      " ARIMA(1,0,4)(0,0,0)[12] intercept   : AIC=-29449.044, Time=2.43 sec\n",
      " ARIMA(3,0,4)(0,0,0)[12] intercept   : AIC=-29486.281, Time=3.16 sec\n",
      " ARIMA(3,0,4)(1,0,0)[12] intercept   : AIC=-28695.806, Time=5.42 sec\n",
      " ARIMA(3,0,4)(0,0,1)[12] intercept   : AIC=-29468.956, Time=5.38 sec\n",
      " ARIMA(3,0,4)(1,0,1)[12] intercept   : AIC=-28923.302, Time=6.20 sec\n",
      " ARIMA(4,0,4)(0,0,0)[12] intercept   : AIC=-29479.808, Time=3.33 sec\n",
      " ARIMA(4,0,3)(0,0,0)[12] intercept   : AIC=-28826.350, Time=1.39 sec\n",
      " ARIMA(3,0,4)(0,0,0)[12]             : AIC=-29422.663, Time=1.65 sec\n",
      "\n",
      "Best model:  ARIMA(3,0,4)(0,0,0)[12] intercept\n",
      "Total fit time: 179.161 seconds\n"
     ]
    },
    {
     "data": {
      "text/plain": [
       "{'maxiter': 50,\n",
       " 'method': 'lbfgs',\n",
       " 'order': (3, 0, 4),\n",
       " 'out_of_sample_size': 0,\n",
       " 'scoring': 'mse',\n",
       " 'scoring_args': {},\n",
       " 'seasonal_order': (0, 0, 0, 12),\n",
       " 'start_params': None,\n",
       " 'suppress_warnings': True,\n",
       " 'trend': None,\n",
       " 'with_intercept': True}"
      ]
     },
     "execution_count": 120,
     "metadata": {},
     "output_type": "execute_result"
    }
   ],
   "source": [
    "get_pdq_values(Kurunegala['HCHO Value'].dropna())"
   ]
  },
  {
   "cell_type": "code",
   "execution_count": 21,
   "metadata": {},
   "outputs": [
    {
     "name": "stderr",
     "output_type": "stream",
     "text": [
      "C:\\Users\\Dell\\AppData\\Local\\Packages\\PythonSoftwareFoundation.Python.3.7_qbz5n2kfra8p0\\LocalCache\\local-packages\\Python37\\site-packages\\statsmodels\\tsa\\base\\tsa_model.py:471: ValueWarning: A date index has been provided, but it has no associated frequency information and so will be ignored when e.g. forecasting.\n",
      "  self._init_dates(dates, freq)\n",
      "C:\\Users\\Dell\\AppData\\Local\\Packages\\PythonSoftwareFoundation.Python.3.7_qbz5n2kfra8p0\\LocalCache\\local-packages\\Python37\\site-packages\\statsmodels\\tsa\\base\\tsa_model.py:471: ValueWarning: A date index has been provided, but it has no associated frequency information and so will be ignored when e.g. forecasting.\n",
      "  self._init_dates(dates, freq)\n",
      "C:\\Users\\Dell\\AppData\\Local\\Packages\\PythonSoftwareFoundation.Python.3.7_qbz5n2kfra8p0\\LocalCache\\local-packages\\Python37\\site-packages\\statsmodels\\base\\model.py:606: ConvergenceWarning: Maximum Likelihood optimization failed to converge. Check mle_retvals\n",
      "  ConvergenceWarning)\n",
      "C:\\Users\\Dell\\AppData\\Local\\Packages\\PythonSoftwareFoundation.Python.3.7_qbz5n2kfra8p0\\LocalCache\\local-packages\\Python37\\site-packages\\statsmodels\\tsa\\base\\tsa_model.py:843: ValueWarning: No supported index is available. Prediction results will be given with an integer index beginning at `start`.\n",
      "  data=self.data,\n"
     ]
    },
    {
     "data": {
      "image/png": "[encoded data removed]",
      "text/plain": [
       "<Figure size 432x288 with 1 Axes>"
      ]
     },
     "metadata": {
      "needs_background": "light"
     },
     "output_type": "display_data"
    }
   ],
   "source": [
    "Kurunegala_forecast = forecast(Kurunegala, 'Kurunegala',(3,0,4),(0,0,0,12))"
   ]
  },
  {
   "cell_type": "markdown",
   "metadata": {},
   "source": [
    "#### ***Kurunegala Model Evaluation***"
   ]
  },
  {
   "cell_type": "code",
   "execution_count": 22,
   "metadata": {},
   "outputs": [
    {
     "name": "stderr",
     "output_type": "stream",
     "text": [
      "C:\\Users\\Dell\\AppData\\Local\\Packages\\PythonSoftwareFoundation.Python.3.7_qbz5n2kfra8p0\\LocalCache\\local-packages\\Python37\\site-packages\\statsmodels\\tsa\\base\\tsa_model.py:471: ValueWarning: A date index has been provided, but it has no associated frequency information and so will be ignored when e.g. forecasting.\n",
      "  self._init_dates(dates, freq)\n",
      "C:\\Users\\Dell\\AppData\\Local\\Packages\\PythonSoftwareFoundation.Python.3.7_qbz5n2kfra8p0\\LocalCache\\local-packages\\Python37\\site-packages\\statsmodels\\tsa\\base\\tsa_model.py:471: ValueWarning: A date index has been provided, but it has no associated frequency information and so will be ignored when e.g. forecasting.\n",
      "  self._init_dates(dates, freq)\n"
     ]
    },
    {
     "name": "stdout",
     "output_type": "stream",
     "text": [
      "RMSE Score: 0.0001071150847180581\n",
      "MSE Score: 1.1473641374156762e-08\n",
      "MAE Score: 9.056524920070103e-05\n"
     ]
    },
    {
     "name": "stderr",
     "output_type": "stream",
     "text": [
      "C:\\Users\\Dell\\AppData\\Local\\Packages\\PythonSoftwareFoundation.Python.3.7_qbz5n2kfra8p0\\LocalCache\\local-packages\\Python37\\site-packages\\statsmodels\\base\\model.py:606: ConvergenceWarning: Maximum Likelihood optimization failed to converge. Check mle_retvals\n",
      "  ConvergenceWarning)\n",
      "C:\\Users\\Dell\\AppData\\Local\\Packages\\PythonSoftwareFoundation.Python.3.7_qbz5n2kfra8p0\\LocalCache\\local-packages\\Python37\\site-packages\\statsmodels\\tsa\\base\\tsa_model.py:843: ValueWarning: No supported index is available. Prediction results will be given with an integer index beginning at `start`.\n",
      "  data=self.data,\n"
     ]
    }
   ],
   "source": [
    "Evaluate(Kurunegala, 'Kurunegala',(3,0,4),(0,0,0,12))"
   ]
  },
  {
   "cell_type": "markdown",
   "metadata": {},
   "source": [
    "## <center>***Nuwara Eliya***</center>"
   ]
  },
  {
   "cell_type": "markdown",
   "metadata": {},
   "source": [
    "#### ***Nuwara Eliya forecast***"
   ]
  },
  {
   "cell_type": "code",
   "execution_count": null,
   "metadata": {},
   "outputs": [
    {
     "name": "stdout",
     "output_type": "stream",
     "text": [
      "Performing stepwise search to minimize aic\n",
      " ARIMA(0,0,0)(1,0,1)[12] intercept   : AIC=-29133.973, Time=1.42 sec\n",
      " ARIMA(0,0,0)(0,0,0)[12] intercept   : AIC=-29254.779, Time=0.16 sec\n",
      " ARIMA(1,0,0)(1,0,0)[12] intercept   : AIC=-29688.956, Time=2.57 sec\n",
      " ARIMA(0,0,1)(0,0,1)[12] intercept   : AIC=-29941.699, Time=1.33 sec\n",
      " ARIMA(0,0,0)(0,0,0)[12]             : AIC=-27685.680, Time=0.06 sec\n",
      " ARIMA(0,0,1)(0,0,0)[12] intercept   : AIC=-29940.925, Time=0.31 sec\n",
      " ARIMA(0,0,1)(1,0,1)[12] intercept   : AIC=-29868.090, Time=3.30 sec\n",
      " ARIMA(0,0,1)(0,0,2)[12] intercept   : AIC=-29938.097, Time=4.83 sec\n",
      " ARIMA(0,0,1)(1,0,0)[12] intercept   : AIC=-29458.181, Time=2.27 sec\n",
      " ARIMA(0,0,1)(1,0,2)[12] intercept   : AIC=-29903.969, Time=9.83 sec\n",
      " ARIMA(0,0,0)(0,0,1)[12] intercept   : AIC=-29258.402, Time=1.97 sec\n",
      " ARIMA(1,0,1)(0,0,1)[12] intercept   : AIC=-30283.476, Time=2.04 sec\n",
      " ARIMA(1,0,1)(0,0,0)[12] intercept   : AIC=-30329.676, Time=1.11 sec\n",
      " ARIMA(1,0,1)(1,0,0)[12] intercept   : AIC=-29684.799, Time=1.69 sec\n",
      " ARIMA(1,0,1)(1,0,1)[12] intercept   : AIC=-30230.487, Time=3.04 sec\n",
      " ARIMA(1,0,0)(0,0,0)[12] intercept   : AIC=-30328.286, Time=0.23 sec\n",
      " ARIMA(2,0,1)(0,0,0)[12] intercept   : AIC=-30260.501, Time=1.07 sec\n",
      " ARIMA(1,0,2)(0,0,0)[12] intercept   : AIC=-30333.646, Time=1.33 sec\n",
      " ARIMA(1,0,2)(1,0,0)[12] intercept   : AIC=-29687.667, Time=2.90 sec\n",
      " ARIMA(1,0,2)(0,0,1)[12] intercept   : AIC=-30287.752, Time=4.54 sec\n",
      " ARIMA(1,0,2)(1,0,1)[12] intercept   : AIC=-30244.112, Time=4.05 sec\n",
      " ARIMA(0,0,2)(0,0,0)[12] intercept   : AIC=-30129.395, Time=1.29 sec\n",
      " ARIMA(2,0,2)(0,0,0)[12] intercept   : AIC=-30328.704, Time=1.67 sec\n",
      " ARIMA(1,0,3)(0,0,0)[12] intercept   : AIC=-30331.873, Time=1.70 sec\n",
      " ARIMA(0,0,3)(0,0,0)[12] intercept   : AIC=-30218.856, Time=1.82 sec\n",
      " ARIMA(2,0,3)(0,0,0)[12] intercept   : AIC=-30332.757, Time=2.21 sec\n",
      " ARIMA(1,0,2)(0,0,0)[12]             : AIC=-30232.415, Time=0.80 sec\n",
      "\n",
      "Best model:  ARIMA(1,0,2)(0,0,0)[12] intercept\n",
      "Total fit time: 59.557 seconds\n"
     ]
    },
    {
     "data": {
      "text/plain": [
       "{'maxiter': 50,\n",
       " 'method': 'lbfgs',\n",
       " 'order': (1, 0, 2),\n",
       " 'out_of_sample_size': 0,\n",
       " 'scoring': 'mse',\n",
       " 'scoring_args': {},\n",
       " 'seasonal_order': (0, 0, 0, 12),\n",
       " 'start_params': None,\n",
       " 'suppress_warnings': True,\n",
       " 'trend': None,\n",
       " 'with_intercept': True}"
      ]
     },
     "execution_count": 123,
     "metadata": {},
     "output_type": "execute_result"
    }
   ],
   "source": [
    "get_pdq_values(Nuwara_Eliya['HCHO Value'].dropna())"
   ]
  },
  {
   "cell_type": "code",
   "execution_count": 23,
   "metadata": {},
   "outputs": [
    {
     "name": "stderr",
     "output_type": "stream",
     "text": [
      "C:\\Users\\Dell\\AppData\\Local\\Packages\\PythonSoftwareFoundation.Python.3.7_qbz5n2kfra8p0\\LocalCache\\local-packages\\Python37\\site-packages\\statsmodels\\tsa\\base\\tsa_model.py:471: ValueWarning: A date index has been provided, but it has no associated frequency information and so will be ignored when e.g. forecasting.\n",
      "  self._init_dates(dates, freq)\n",
      "C:\\Users\\Dell\\AppData\\Local\\Packages\\PythonSoftwareFoundation.Python.3.7_qbz5n2kfra8p0\\LocalCache\\local-packages\\Python37\\site-packages\\statsmodels\\tsa\\base\\tsa_model.py:471: ValueWarning: A date index has been provided, but it has no associated frequency information and so will be ignored when e.g. forecasting.\n",
      "  self._init_dates(dates, freq)\n",
      "C:\\Users\\Dell\\AppData\\Local\\Packages\\PythonSoftwareFoundation.Python.3.7_qbz5n2kfra8p0\\LocalCache\\local-packages\\Python37\\site-packages\\statsmodels\\base\\model.py:606: ConvergenceWarning: Maximum Likelihood optimization failed to converge. Check mle_retvals\n",
      "  ConvergenceWarning)\n",
      "C:\\Users\\Dell\\AppData\\Local\\Packages\\PythonSoftwareFoundation.Python.3.7_qbz5n2kfra8p0\\LocalCache\\local-packages\\Python37\\site-packages\\statsmodels\\tsa\\base\\tsa_model.py:843: ValueWarning: No supported index is available. Prediction results will be given with an integer index beginning at `start`.\n",
      "  data=self.data,\n"
     ]
    },
    {
     "data": {
      "image/png": "[encoded data removed]",
      "text/plain": [
       "<Figure size 432x288 with 1 Axes>"
      ]
     },
     "metadata": {
      "needs_background": "light"
     },
     "output_type": "display_data"
    }
   ],
   "source": [
    "Nuwara_Eliya_forecast = forecast(Nuwara_Eliya, 'Nuwara Eliya',(1,0,2),(0,0,0,12))"
   ]
  },
  {
   "cell_type": "markdown",
   "metadata": {},
   "source": [
    "#### ***Nwara Eliya Model Evaluation***"
   ]
  },
  {
   "cell_type": "code",
   "execution_count": 24,
   "metadata": {},
   "outputs": [
    {
     "name": "stderr",
     "output_type": "stream",
     "text": [
      "C:\\Users\\Dell\\AppData\\Local\\Packages\\PythonSoftwareFoundation.Python.3.7_qbz5n2kfra8p0\\LocalCache\\local-packages\\Python37\\site-packages\\statsmodels\\tsa\\base\\tsa_model.py:471: ValueWarning: A date index has been provided, but it has no associated frequency information and so will be ignored when e.g. forecasting.\n",
      "  self._init_dates(dates, freq)\n",
      "C:\\Users\\Dell\\AppData\\Local\\Packages\\PythonSoftwareFoundation.Python.3.7_qbz5n2kfra8p0\\LocalCache\\local-packages\\Python37\\site-packages\\statsmodels\\tsa\\base\\tsa_model.py:471: ValueWarning: A date index has been provided, but it has no associated frequency information and so will be ignored when e.g. forecasting.\n",
      "  self._init_dates(dates, freq)\n"
     ]
    },
    {
     "name": "stdout",
     "output_type": "stream",
     "text": [
      "RMSE Score: 0.00011214621957240023\n",
      "MSE Score: 1.2576774564381004e-08\n",
      "MAE Score: 9.34224131769588e-05\n"
     ]
    },
    {
     "name": "stderr",
     "output_type": "stream",
     "text": [
      "C:\\Users\\Dell\\AppData\\Local\\Packages\\PythonSoftwareFoundation.Python.3.7_qbz5n2kfra8p0\\LocalCache\\local-packages\\Python37\\site-packages\\statsmodels\\base\\model.py:606: ConvergenceWarning: Maximum Likelihood optimization failed to converge. Check mle_retvals\n",
      "  ConvergenceWarning)\n",
      "C:\\Users\\Dell\\AppData\\Local\\Packages\\PythonSoftwareFoundation.Python.3.7_qbz5n2kfra8p0\\LocalCache\\local-packages\\Python37\\site-packages\\statsmodels\\tsa\\base\\tsa_model.py:843: ValueWarning: No supported index is available. Prediction results will be given with an integer index beginning at `start`.\n",
      "  data=self.data,\n"
     ]
    }
   ],
   "source": [
    "Evaluate(Nuwara_Eliya, 'Nuwara Eliya',(1,0,2),(0,0,0,12))"
   ]
  },
  {
   "cell_type": "markdown",
   "metadata": {},
   "source": [
    "***Saving Forecasted values with data frames and saving in a csv***\n",
    "\n"
   ]
  },
  {
   "cell_type": "code",
   "execution_count": 25,
   "metadata": {},
   "outputs": [],
   "source": [
    "# combining forecaste values with data frams of each location\n",
    "Kandy = Kandy.append(Kandy_forecast)\n",
    "Colombo = Colombo.append(Colombo_forecast)\n",
    "Bibile = Bibile.append(Bibile_forecast)\n",
    "Deniyaya = Deniyaya.append(Deniyaya_forecast)\n",
    "Jaffna = Jaffna.append(Jaffna_forecast)\n",
    "Kurunegala = Kurunegala.append(Kurunegala_forecast)\n",
    "Nuwara_Eliya = Nuwara_Eliya.append(Nuwara_Eliya_forecast)\n"
   ]
  },
  {
   "cell_type": "code",
   "execution_count": 26,
   "metadata": {},
   "outputs": [],
   "source": [
    "# save data frames to csv files\n",
    "Kandy.to_csv(\"forecasted csv's/Kandy.csv\")\n",
    "Colombo.to_csv(\"forecasted csv's/Colombo.csv\")\n",
    "Bibile.to_csv(\"forecasted csv's/Bibile.csv\")\n",
    "Deniyaya.to_csv(\"forecasted csv's/Deniyaya.csv\")\n",
    "Jaffna.to_csv(\"forecasted csv's/Jaffna.csv\")\n",
    "Kurunegala.to_csv(\"forecasted csv's/Kurunegala.csv\")\n",
    "Nuwara_Eliya.to_csv(\"forecasted csv's/Nuwara_Eliya.csv\")\n"
   ]
  },
  {
   "cell_type": "code",
   "execution_count": 31,
   "metadata": {},
   "outputs": [],
   "source": [
    "# set Date as index in all each data frame\n",
    "Kandy.set_index('Date', inplace=True)\n",
    "Colombo.set_index('Date', inplace=True)\n",
    "Bibile.set_index('Date', inplace=True)\n",
    "Deniyaya.set_index('Date', inplace=True)\n",
    "Jaffna.set_index('Date', inplace=True)\n",
    "Kurunegala.set_index('Date', inplace=True)\n",
    "\n"
   ]
  },
  {
   "cell_type": "code",
   "execution_count": 32,
   "metadata": {},
   "outputs": [],
   "source": [
    "# combine all data frames in one csv as a final data frame\n",
    "final_df = pd.concat([Kandy,Colombo,Bibile,Deniyaya,Jaffna,Kurunegala,Nuwara_Eliya], axis=1)\n",
    "final_df.to_csv(\"final_df.csv\")"
   ]
  },
  {
   "cell_type": "code",
   "execution_count": null,
   "metadata": {},
   "outputs": [],
   "source": []
  }
 ],
 "metadata": {
  "kernelspec": {
   "display_name": "Python 3",
   "language": "python",
   "name": "python3"
  },
  "language_info": {
   "codemirror_mode": {
    "name": "ipython",
    "version": 3
   },
   "file_extension": ".py",
   "mimetype": "text/x-python",
   "name": "python",
   "nbconvert_exporter": "python",
   "pygments_lexer": "ipython3",
   "version": "3.7.9"
  }
 },
 "nbformat": 4,
 "nbformat_minor": 2
}
