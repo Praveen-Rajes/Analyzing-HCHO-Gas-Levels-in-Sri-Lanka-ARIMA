{
 "cells": [
  {
   "cell_type": "code",
   "execution_count": 1,
   "metadata": {},
   "outputs": [],
   "source": [
    "import pandas as pd"
   ]
  },
  {
   "cell_type": "code",
   "execution_count": 2,
   "metadata": {},
   "outputs": [],
   "source": [
    "df_col_mat_nuw = pd.read_csv('Data Sets\\col_mat_nuw_output.csv')\n",
    "df_kan = pd.read_csv('Data Sets\\kan_output.csv')\n",
    "df_mon_kur_jaf = pd.read_csv('Data Sets\\mon_kur_jaf_output.csv')"
   ]
  },
  {
   "cell_type": "code",
   "execution_count": 3,
   "metadata": {},
   "outputs": [],
   "source": [
    "columns = ['HCHO Value','Location','Date','Next Date']\n",
    "df_col_mat_nuw.columns = columns\n",
    "df_kan.columns = columns\n",
    "df_mon_kur_jaf.columns = columns"
   ]
  },
  {
   "cell_type": "code",
   "execution_count": 4,
   "metadata": {},
   "outputs": [],
   "source": [
    "location_counts = {\n",
    "    'Colombo Proper': 0,\n",
    "    'Deniyaya, Matara': 0,\n",
    "    'Nuwara Eliya Proper': 0,\n",
    "    'Kandy Proper': 0,\n",
    "    'Bibile, Monaragala': 0,\n",
    "    'Kurunegala Proper': 0,\n",
    "    'Jaffna Proper': 0\n",
    "}\n",
    "\n",
    "for location in df_col_mat_nuw['Location']:\n",
    "    if location in location_counts:\n",
    "        location_counts[location] += 1\n",
    "for location in df_kan['Location']:\n",
    "    if location in location_counts:\n",
    "        location_counts[location] += 1\n",
    "for location in df_mon_kur_jaf['Location']:\n",
    "    if location in location_counts:\n",
    "        location_counts[location] += 1"
   ]
  },
  {
   "cell_type": "code",
   "execution_count": 5,
   "metadata": {},
   "outputs": [],
   "source": [
    "# Create separate dataframes for each location\n",
    "colombo_df = df_col_mat_nuw[df_col_mat_nuw['Location'] == 'Colombo Proper']\n",
    "Deniyaya_df = df_col_mat_nuw[df_col_mat_nuw['Location'] == 'Deniyaya, Matara']\n",
    "Nuwara_Eliya_df = df_col_mat_nuw[df_col_mat_nuw['Location'] == 'Nuwara Eliya Proper']\n",
    "Kandy_df = df_kan[df_kan['Location'] == 'Kandy Proper']\n",
    "Bibile_df = df_mon_kur_jaf[df_mon_kur_jaf['Location'] == 'Bibile, Monaragala']\n",
    "Kurunegala_df = df_mon_kur_jaf[df_mon_kur_jaf['Location'] == 'Kurunegala Proper']\n",
    "Jaffna_df = df_mon_kur_jaf[df_mon_kur_jaf['Location'] == 'Jaffna Proper']"
   ]
  },
  {
   "cell_type": "code",
   "execution_count": 6,
   "metadata": {},
   "outputs": [],
   "source": [
    "#droping Location, Next Date columns  for all dataframes\n",
    "\n",
    "colombo_df = colombo_df.drop(['Location','Next Date'], axis=1)\n",
    "Deniyaya_df = Deniyaya_df.drop(['Location','Next Date'], axis=1)\n",
    "Nuwara_Eliya_df = Nuwara_Eliya_df.drop(['Location','Next Date'], axis=1)\n",
    "Kandy_df = Kandy_df.drop(['Location','Next Date'], axis=1)\n",
    "Bibile_df = Bibile_df.drop(['Location','Next Date'], axis=1)\n",
    "Kurunegala_df = Kurunegala_df.drop(['Location','Next Date'], axis=1)\n",
    "Jaffna_df = Jaffna_df.drop(['Location','Next Date'], axis=1)"
   ]
  },
  {
   "cell_type": "code",
   "execution_count": 7,
   "metadata": {},
   "outputs": [],
   "source": [
    "colombo_df['HCHO Value'] = colombo_df['HCHO Value'].interpolate()\n",
    "Deniyaya_df['HCHO Value'] = Deniyaya_df['HCHO Value'].interpolate()\n",
    "Nuwara_Eliya_df['HCHO Value'] = Nuwara_Eliya_df['HCHO Value'].interpolate()\n",
    "Kandy_df['HCHO Value'] = Kandy_df['HCHO Value'].interpolate()\n",
    "Bibile_df['HCHO Value'] = Bibile_df['HCHO Value'].interpolate()\n",
    "Kurunegala_df['HCHO Value'] = Kurunegala_df['HCHO Value'].interpolate()\n",
    "Jaffna_df['HCHO Value'] = Jaffna_df['HCHO Value'].interpolate()"
   ]
  },
  {
   "cell_type": "code",
   "execution_count": 8,
   "metadata": {},
   "outputs": [],
   "source": [
    "# remove outliers from all dataframes location wise\n",
    "\n",
    "def remove_outliers(df):\n",
    "    Q1 = df['HCHO Value'].quantile(0.25)\n",
    "    Q3 = df['HCHO Value'].quantile(0.75)\n",
    "    IQR = Q3 - Q1\n",
    "    df = df[(df['HCHO Value'] >= (Q1 - 1.5 * IQR)) & (df['HCHO Value'] <= (Q3 + 1.5 * IQR))]\n",
    "    return df\n",
    "\n",
    "colombo_df = remove_outliers(colombo_df)\n",
    "Deniyaya_df = remove_outliers(Deniyaya_df)\n",
    "Nuwara_Eliya_df = remove_outliers(Nuwara_Eliya_df)\n",
    "Kandy_df = remove_outliers(Kandy_df)\n",
    "Bibile_df = remove_outliers(Bibile_df)\n",
    "Kurunegala_df = remove_outliers(Kurunegala_df)\n",
    "Jaffna_df = remove_outliers(Jaffna_df)\n",
    "\n",
    "# Create a list of tuples with the dataframes and their corresponding locations\n",
    "dfs_locations = [\n",
    "    (colombo_df, 'Colombo Proper'),\n",
    "    (Deniyaya_df, 'Deniyaya, Matara'),\n",
    "    (Nuwara_Eliya_df, 'Nuwara Eliya Proper'),\n",
    "    (Kandy_df, 'Kandy Proper'),\n",
    "    (Bibile_df, 'Bibile, Monaragala'),\n",
    "    (Kurunegala_df, 'Kurunegala Proper'),\n",
    "    (Jaffna_df, 'Jaffna Proper')\n",
    "]\n"
   ]
  },
  {
   "cell_type": "code",
   "execution_count": 9,
   "metadata": {},
   "outputs": [],
   "source": [
    "#setting index column\n",
    "Kandy_df.index = pd.to_datetime(Kandy_df['Date'], format='%Y-%m-%d')\n",
    "colombo_df.index = pd.to_datetime(colombo_df['Date'], format='%Y-%m-%d')\n",
    "Deniyaya_df.index = pd.to_datetime(Deniyaya_df['Date'], format='%Y-%m-%d')\n",
    "Nuwara_Eliya_df.index = pd.to_datetime(Nuwara_Eliya_df['Date'], format='%Y-%m-%d')\n",
    "Bibile_df.index = pd.to_datetime(Bibile_df['Date'], format='%Y-%m-%d')\n",
    "Kurunegala_df.index = pd.to_datetime(Kurunegala_df['Date'], format='%Y-%m-%d')\n",
    "Jaffna_df.index = pd.to_datetime(Jaffna_df['Date'], format='%Y-%m-%d')"
   ]
  }
 ],
 "metadata": {
  "kernelspec": {
   "display_name": "Python 3",
   "language": "python",
   "name": "python3"
  },
  "language_info": {
   "codemirror_mode": {
    "name": "ipython",
    "version": 3
   },
   "file_extension": ".py",
   "mimetype": "text/x-python",
   "name": "python",
   "nbconvert_exporter": "python",
   "pygments_lexer": "ipython3",
   "version": "3.7.9"
  }
 },
 "nbformat": 4,
 "nbformat_minor": 2
}
