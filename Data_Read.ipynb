{
 "cells": [
  {
   "cell_type": "code",
   "execution_count": 9,
   "metadata": {},
   "outputs": [],
   "source": [
    "import pandas as pd"
   ]
  },
  {
   "cell_type": "code",
   "execution_count": 10,
   "metadata": {},
   "outputs": [],
   "source": [
    "Kandy_df = pd.read_csv('Outcome Data/Kandy_df.csv')\n",
    "colombo_df = pd.read_csv('Outcome Data/colombo_df.csv')\n",
    "Deniyaya_df = pd.read_csv('Outcome Data/Deniyaya_df.csv')\n",
    "Nuwara_Eliya_df = pd.read_csv('Outcome Data/Nuwara_Eliya_df.csv')\n",
    "Bibile_df = pd.read_csv('Outcome Data/Bibile_df.csv')\n",
    "Kurunegala_df = pd.read_csv('Outcome Data/Kurunegala_df.csv')\n",
    "Jaffna_df = pd.read_csv('Outcome Data/Jaffna_df.csv')"
   ]
  },
  {
   "cell_type": "code",
   "execution_count": 11,
   "metadata": {},
   "outputs": [],
   "source": [
    "#setting index column\n",
    "Kandy_df.index = pd.to_datetime(Kandy_df['Date'], format='%Y-%m-%d')\n",
    "colombo_df.index = pd.to_datetime(colombo_df['Date'], format='%Y-%m-%d')\n",
    "Deniyaya_df.index = pd.to_datetime(Deniyaya_df['Date'], format='%Y-%m-%d')\n",
    "Nuwara_Eliya_df.index = pd.to_datetime(Nuwara_Eliya_df['Date'], format='%Y-%m-%d')\n",
    "Bibile_df.index = pd.to_datetime(Bibile_df['Date'], format='%Y-%m-%d')\n",
    "Kurunegala_df.index = pd.to_datetime(Kurunegala_df['Date'], format='%Y-%m-%d')\n",
    "Jaffna_df.index = pd.to_datetime(Jaffna_df['Date'], format='%Y-%m-%d')"
   ]
  }
 ],
 "metadata": {
  "kernelspec": {
   "display_name": "Python 3",
   "language": "python",
   "name": "python3"
  },
  "language_info": {
   "codemirror_mode": {
    "name": "ipython",
    "version": 3
   },
   "file_extension": ".py",
   "mimetype": "text/x-python",
   "name": "python",
   "nbconvert_exporter": "python",
   "pygments_lexer": "ipython3",
   "version": "3.7.9"
  }
 },
 "nbformat": 4,
 "nbformat_minor": 2
}
